{
 "cells": [
  {
   "cell_type": "markdown",
   "id": "f45d748a",
   "metadata": {},
   "source": [
    "# Import Libraries and Datasets"
   ]
  },
  {
   "cell_type": "code",
   "execution_count": 1,
   "id": "2aecca05",
   "metadata": {},
   "outputs": [],
   "source": [
    "import numpy as np\n",
    "import pandas as pd\n",
    "pd.plotting.register_matplotlib_converters()\n",
    "import matplotlib.pyplot as plt\n",
    "%matplotlib inline\n",
    "import seaborn as sns"
   ]
  },
  {
   "cell_type": "code",
   "execution_count": 2,
   "id": "3293f8b9",
   "metadata": {},
   "outputs": [],
   "source": [
    "attacking = pd.read_csv('attacking.csv')\n",
    "attempts = pd.read_csv('attempts.csv')\n",
    "defending = pd.read_csv('defending.csv')\n",
    "disciplinary = pd.read_csv('disciplinary.csv')\n",
    "distribution = pd.read_csv('distributon.csv')\n",
    "goalkeeping = pd.read_csv('goalkeeping.csv')\n",
    "goals = pd.read_csv('goals.csv')\n",
    "key_stats = pd.read_csv('key_stats.csv')"
   ]
  },
  {
   "cell_type": "code",
   "execution_count": 3,
   "id": "ae8d0057",
   "metadata": {},
   "outputs": [
    {
     "data": {
      "text/html": [
       "<div>\n",
       "<style scoped>\n",
       "    .dataframe tbody tr th:only-of-type {\n",
       "        vertical-align: middle;\n",
       "    }\n",
       "\n",
       "    .dataframe tbody tr th {\n",
       "        vertical-align: top;\n",
       "    }\n",
       "\n",
       "    .dataframe thead th {\n",
       "        text-align: right;\n",
       "    }\n",
       "</style>\n",
       "<table border=\"1\" class=\"dataframe\">\n",
       "  <thead>\n",
       "    <tr style=\"text-align: right;\">\n",
       "      <th></th>\n",
       "      <th>serial</th>\n",
       "      <th>player_name</th>\n",
       "      <th>club</th>\n",
       "      <th>position</th>\n",
       "      <th>assists</th>\n",
       "      <th>corner_taken</th>\n",
       "      <th>offsides</th>\n",
       "      <th>dribbles</th>\n",
       "      <th>match_played</th>\n",
       "    </tr>\n",
       "  </thead>\n",
       "  <tbody>\n",
       "    <tr>\n",
       "      <th>0</th>\n",
       "      <td>1</td>\n",
       "      <td>Bruno Fernandes</td>\n",
       "      <td>Man. United</td>\n",
       "      <td>Midfielder</td>\n",
       "      <td>7</td>\n",
       "      <td>10</td>\n",
       "      <td>2</td>\n",
       "      <td>7</td>\n",
       "      <td>7</td>\n",
       "    </tr>\n",
       "    <tr>\n",
       "      <th>1</th>\n",
       "      <td>2</td>\n",
       "      <td>Vinícius Júnior</td>\n",
       "      <td>Real Madrid</td>\n",
       "      <td>Forward</td>\n",
       "      <td>6</td>\n",
       "      <td>3</td>\n",
       "      <td>4</td>\n",
       "      <td>83</td>\n",
       "      <td>13</td>\n",
       "    </tr>\n",
       "    <tr>\n",
       "      <th>2</th>\n",
       "      <td>2</td>\n",
       "      <td>Sané</td>\n",
       "      <td>Bayern</td>\n",
       "      <td>Midfielder</td>\n",
       "      <td>6</td>\n",
       "      <td>3</td>\n",
       "      <td>3</td>\n",
       "      <td>32</td>\n",
       "      <td>10</td>\n",
       "    </tr>\n",
       "    <tr>\n",
       "      <th>3</th>\n",
       "      <td>4</td>\n",
       "      <td>Antony</td>\n",
       "      <td>Ajax</td>\n",
       "      <td>Forward</td>\n",
       "      <td>5</td>\n",
       "      <td>3</td>\n",
       "      <td>4</td>\n",
       "      <td>28</td>\n",
       "      <td>7</td>\n",
       "    </tr>\n",
       "    <tr>\n",
       "      <th>4</th>\n",
       "      <td>5</td>\n",
       "      <td>Alexander-Arnold</td>\n",
       "      <td>Liverpool</td>\n",
       "      <td>Defender</td>\n",
       "      <td>4</td>\n",
       "      <td>36</td>\n",
       "      <td>0</td>\n",
       "      <td>9</td>\n",
       "      <td>9</td>\n",
       "    </tr>\n",
       "  </tbody>\n",
       "</table>\n",
       "</div>"
      ],
      "text/plain": [
       "   serial       player_name         club    position  assists  corner_taken  \\\n",
       "0       1   Bruno Fernandes  Man. United  Midfielder        7            10   \n",
       "1       2   Vinícius Júnior  Real Madrid     Forward        6             3   \n",
       "2       2              Sané       Bayern  Midfielder        6             3   \n",
       "3       4            Antony         Ajax     Forward        5             3   \n",
       "4       5  Alexander-Arnold    Liverpool    Defender        4            36   \n",
       "\n",
       "   offsides  dribbles  match_played  \n",
       "0         2         7             7  \n",
       "1         4        83            13  \n",
       "2         3        32            10  \n",
       "3         4        28             7  \n",
       "4         0         9             9  "
      ]
     },
     "execution_count": 3,
     "metadata": {},
     "output_type": "execute_result"
    }
   ],
   "source": [
    "attacking.head()"
   ]
  },
  {
   "cell_type": "code",
   "execution_count": 4,
   "id": "76ddb233",
   "metadata": {},
   "outputs": [
    {
     "data": {
      "text/html": [
       "<div>\n",
       "<style scoped>\n",
       "    .dataframe tbody tr th:only-of-type {\n",
       "        vertical-align: middle;\n",
       "    }\n",
       "\n",
       "    .dataframe tbody tr th {\n",
       "        vertical-align: top;\n",
       "    }\n",
       "\n",
       "    .dataframe thead th {\n",
       "        text-align: right;\n",
       "    }\n",
       "</style>\n",
       "<table border=\"1\" class=\"dataframe\">\n",
       "  <thead>\n",
       "    <tr style=\"text-align: right;\">\n",
       "      <th></th>\n",
       "      <th>serial</th>\n",
       "      <th>player_name</th>\n",
       "      <th>club</th>\n",
       "      <th>position</th>\n",
       "      <th>total_attempts</th>\n",
       "      <th>on_target</th>\n",
       "      <th>off_target</th>\n",
       "      <th>blocked</th>\n",
       "      <th>match_played</th>\n",
       "    </tr>\n",
       "  </thead>\n",
       "  <tbody>\n",
       "    <tr>\n",
       "      <th>0</th>\n",
       "      <td>1</td>\n",
       "      <td>Benzema</td>\n",
       "      <td>Real Madrid</td>\n",
       "      <td>Forward</td>\n",
       "      <td>45</td>\n",
       "      <td>23</td>\n",
       "      <td>13</td>\n",
       "      <td>9</td>\n",
       "      <td>12</td>\n",
       "    </tr>\n",
       "    <tr>\n",
       "      <th>1</th>\n",
       "      <td>2</td>\n",
       "      <td>Salah</td>\n",
       "      <td>Liverpool</td>\n",
       "      <td>Forward</td>\n",
       "      <td>42</td>\n",
       "      <td>22</td>\n",
       "      <td>11</td>\n",
       "      <td>9</td>\n",
       "      <td>13</td>\n",
       "    </tr>\n",
       "    <tr>\n",
       "      <th>2</th>\n",
       "      <td>3</td>\n",
       "      <td>Mahrez</td>\n",
       "      <td>Man. City</td>\n",
       "      <td>Midfielder</td>\n",
       "      <td>37</td>\n",
       "      <td>18</td>\n",
       "      <td>8</td>\n",
       "      <td>11</td>\n",
       "      <td>12</td>\n",
       "    </tr>\n",
       "    <tr>\n",
       "      <th>3</th>\n",
       "      <td>4</td>\n",
       "      <td>Sané</td>\n",
       "      <td>Bayern</td>\n",
       "      <td>Midfielder</td>\n",
       "      <td>33</td>\n",
       "      <td>13</td>\n",
       "      <td>12</td>\n",
       "      <td>8</td>\n",
       "      <td>10</td>\n",
       "    </tr>\n",
       "    <tr>\n",
       "      <th>4</th>\n",
       "      <td>5</td>\n",
       "      <td>Lewandowski</td>\n",
       "      <td>Bayern</td>\n",
       "      <td>Forward</td>\n",
       "      <td>31</td>\n",
       "      <td>19</td>\n",
       "      <td>8</td>\n",
       "      <td>4</td>\n",
       "      <td>10</td>\n",
       "    </tr>\n",
       "  </tbody>\n",
       "</table>\n",
       "</div>"
      ],
      "text/plain": [
       "   serial  player_name         club    position  total_attempts  on_target  \\\n",
       "0       1      Benzema  Real Madrid     Forward              45         23   \n",
       "1       2        Salah    Liverpool     Forward              42         22   \n",
       "2       3       Mahrez    Man. City  Midfielder              37         18   \n",
       "3       4         Sané       Bayern  Midfielder              33         13   \n",
       "4       5  Lewandowski       Bayern     Forward              31         19   \n",
       "\n",
       "   off_target  blocked  match_played  \n",
       "0          13        9            12  \n",
       "1          11        9            13  \n",
       "2           8       11            12  \n",
       "3          12        8            10  \n",
       "4           8        4            10  "
      ]
     },
     "execution_count": 4,
     "metadata": {},
     "output_type": "execute_result"
    }
   ],
   "source": [
    "attempts.head()"
   ]
  },
  {
   "cell_type": "code",
   "execution_count": 5,
   "id": "7faa0e50",
   "metadata": {},
   "outputs": [
    {
     "data": {
      "text/html": [
       "<div>\n",
       "<style scoped>\n",
       "    .dataframe tbody tr th:only-of-type {\n",
       "        vertical-align: middle;\n",
       "    }\n",
       "\n",
       "    .dataframe tbody tr th {\n",
       "        vertical-align: top;\n",
       "    }\n",
       "\n",
       "    .dataframe thead th {\n",
       "        text-align: right;\n",
       "    }\n",
       "</style>\n",
       "<table border=\"1\" class=\"dataframe\">\n",
       "  <thead>\n",
       "    <tr style=\"text-align: right;\">\n",
       "      <th></th>\n",
       "      <th>serial</th>\n",
       "      <th>player_name</th>\n",
       "      <th>club</th>\n",
       "      <th>position</th>\n",
       "      <th>balls_recoverd</th>\n",
       "      <th>tackles</th>\n",
       "      <th>t_won</th>\n",
       "      <th>t_lost</th>\n",
       "      <th>clearance_attempted</th>\n",
       "      <th>match_played</th>\n",
       "    </tr>\n",
       "  </thead>\n",
       "  <tbody>\n",
       "    <tr>\n",
       "      <th>0</th>\n",
       "      <td>1</td>\n",
       "      <td>Casemiro</td>\n",
       "      <td>Real Madrid</td>\n",
       "      <td>Midfielder</td>\n",
       "      <td>76</td>\n",
       "      <td>31</td>\n",
       "      <td>13</td>\n",
       "      <td>18</td>\n",
       "      <td>19</td>\n",
       "      <td>11</td>\n",
       "    </tr>\n",
       "    <tr>\n",
       "      <th>1</th>\n",
       "      <td>1</td>\n",
       "      <td>Éder Militão</td>\n",
       "      <td>Real Madrid</td>\n",
       "      <td>Defender</td>\n",
       "      <td>76</td>\n",
       "      <td>19</td>\n",
       "      <td>6</td>\n",
       "      <td>13</td>\n",
       "      <td>32</td>\n",
       "      <td>12</td>\n",
       "    </tr>\n",
       "    <tr>\n",
       "      <th>2</th>\n",
       "      <td>1</td>\n",
       "      <td>Reinildo</td>\n",
       "      <td>Atlético</td>\n",
       "      <td>Defender</td>\n",
       "      <td>76</td>\n",
       "      <td>13</td>\n",
       "      <td>6</td>\n",
       "      <td>7</td>\n",
       "      <td>20</td>\n",
       "      <td>10</td>\n",
       "    </tr>\n",
       "    <tr>\n",
       "      <th>3</th>\n",
       "      <td>4</td>\n",
       "      <td>Fabinho</td>\n",
       "      <td>Liverpool</td>\n",
       "      <td>Midfielder</td>\n",
       "      <td>74</td>\n",
       "      <td>23</td>\n",
       "      <td>9</td>\n",
       "      <td>14</td>\n",
       "      <td>8</td>\n",
       "      <td>13</td>\n",
       "    </tr>\n",
       "    <tr>\n",
       "      <th>4</th>\n",
       "      <td>5</td>\n",
       "      <td>Albiol</td>\n",
       "      <td>Villarreal</td>\n",
       "      <td>Defender</td>\n",
       "      <td>73</td>\n",
       "      <td>9</td>\n",
       "      <td>6</td>\n",
       "      <td>3</td>\n",
       "      <td>62</td>\n",
       "      <td>12</td>\n",
       "    </tr>\n",
       "  </tbody>\n",
       "</table>\n",
       "</div>"
      ],
      "text/plain": [
       "   serial   player_name         club    position  balls_recoverd  tackles  \\\n",
       "0       1      Casemiro  Real Madrid  Midfielder              76       31   \n",
       "1       1  Éder Militão  Real Madrid    Defender              76       19   \n",
       "2       1      Reinildo     Atlético    Defender              76       13   \n",
       "3       4       Fabinho    Liverpool  Midfielder              74       23   \n",
       "4       5        Albiol   Villarreal    Defender              73        9   \n",
       "\n",
       "   t_won  t_lost  clearance_attempted  match_played  \n",
       "0     13      18                   19            11  \n",
       "1      6      13                   32            12  \n",
       "2      6       7                   20            10  \n",
       "3      9      14                    8            13  \n",
       "4      6       3                   62            12  "
      ]
     },
     "execution_count": 5,
     "metadata": {},
     "output_type": "execute_result"
    }
   ],
   "source": [
    "defending.head()"
   ]
  },
  {
   "cell_type": "code",
   "execution_count": 6,
   "id": "9f70c8f5",
   "metadata": {},
   "outputs": [
    {
     "data": {
      "text/html": [
       "<div>\n",
       "<style scoped>\n",
       "    .dataframe tbody tr th:only-of-type {\n",
       "        vertical-align: middle;\n",
       "    }\n",
       "\n",
       "    .dataframe tbody tr th {\n",
       "        vertical-align: top;\n",
       "    }\n",
       "\n",
       "    .dataframe thead th {\n",
       "        text-align: right;\n",
       "    }\n",
       "</style>\n",
       "<table border=\"1\" class=\"dataframe\">\n",
       "  <thead>\n",
       "    <tr style=\"text-align: right;\">\n",
       "      <th></th>\n",
       "      <th>serial</th>\n",
       "      <th>player_name</th>\n",
       "      <th>club</th>\n",
       "      <th>position</th>\n",
       "      <th>fouls_committed</th>\n",
       "      <th>fouls_suffered</th>\n",
       "      <th>yellow</th>\n",
       "      <th>red</th>\n",
       "      <th>minutes_played</th>\n",
       "      <th>match_played</th>\n",
       "    </tr>\n",
       "  </thead>\n",
       "  <tbody>\n",
       "    <tr>\n",
       "      <th>0</th>\n",
       "      <td>1</td>\n",
       "      <td>João Palhinha</td>\n",
       "      <td>Sporting CP</td>\n",
       "      <td>Midfielder</td>\n",
       "      <td>23</td>\n",
       "      <td>17</td>\n",
       "      <td>2</td>\n",
       "      <td>0</td>\n",
       "      <td>534</td>\n",
       "      <td>6</td>\n",
       "    </tr>\n",
       "    <tr>\n",
       "      <th>1</th>\n",
       "      <td>2</td>\n",
       "      <td>Capoue</td>\n",
       "      <td>Villarreal</td>\n",
       "      <td>Midfielder</td>\n",
       "      <td>19</td>\n",
       "      <td>17</td>\n",
       "      <td>3</td>\n",
       "      <td>1</td>\n",
       "      <td>1046</td>\n",
       "      <td>12</td>\n",
       "    </tr>\n",
       "    <tr>\n",
       "      <th>2</th>\n",
       "      <td>2</td>\n",
       "      <td>Rodri</td>\n",
       "      <td>Man. City</td>\n",
       "      <td>Midfielder</td>\n",
       "      <td>19</td>\n",
       "      <td>4</td>\n",
       "      <td>2</td>\n",
       "      <td>0</td>\n",
       "      <td>842</td>\n",
       "      <td>10</td>\n",
       "    </tr>\n",
       "    <tr>\n",
       "      <th>3</th>\n",
       "      <td>2</td>\n",
       "      <td>Seiwald</td>\n",
       "      <td>Salzburg</td>\n",
       "      <td>Midfielder</td>\n",
       "      <td>19</td>\n",
       "      <td>3</td>\n",
       "      <td>2</td>\n",
       "      <td>0</td>\n",
       "      <td>649</td>\n",
       "      <td>8</td>\n",
       "    </tr>\n",
       "    <tr>\n",
       "      <th>4</th>\n",
       "      <td>5</td>\n",
       "      <td>Balanta</td>\n",
       "      <td>Club Brugge</td>\n",
       "      <td>Midfielder</td>\n",
       "      <td>18</td>\n",
       "      <td>3</td>\n",
       "      <td>4</td>\n",
       "      <td>0</td>\n",
       "      <td>407</td>\n",
       "      <td>5</td>\n",
       "    </tr>\n",
       "  </tbody>\n",
       "</table>\n",
       "</div>"
      ],
      "text/plain": [
       "   serial    player_name         club    position  fouls_committed  \\\n",
       "0       1  João Palhinha  Sporting CP  Midfielder               23   \n",
       "1       2         Capoue   Villarreal  Midfielder               19   \n",
       "2       2          Rodri    Man. City  Midfielder               19   \n",
       "3       2        Seiwald     Salzburg  Midfielder               19   \n",
       "4       5        Balanta  Club Brugge  Midfielder               18   \n",
       "\n",
       "   fouls_suffered  yellow  red  minutes_played  match_played  \n",
       "0              17       2    0             534             6  \n",
       "1              17       3    1            1046            12  \n",
       "2               4       2    0             842            10  \n",
       "3               3       2    0             649             8  \n",
       "4               3       4    0             407             5  "
      ]
     },
     "execution_count": 6,
     "metadata": {},
     "output_type": "execute_result"
    }
   ],
   "source": [
    "disciplinary.head()"
   ]
  },
  {
   "cell_type": "code",
   "execution_count": 7,
   "id": "6c979de2",
   "metadata": {},
   "outputs": [
    {
     "data": {
      "text/html": [
       "<div>\n",
       "<style scoped>\n",
       "    .dataframe tbody tr th:only-of-type {\n",
       "        vertical-align: middle;\n",
       "    }\n",
       "\n",
       "    .dataframe tbody tr th {\n",
       "        vertical-align: top;\n",
       "    }\n",
       "\n",
       "    .dataframe thead th {\n",
       "        text-align: right;\n",
       "    }\n",
       "</style>\n",
       "<table border=\"1\" class=\"dataframe\">\n",
       "  <thead>\n",
       "    <tr style=\"text-align: right;\">\n",
       "      <th></th>\n",
       "      <th>serial</th>\n",
       "      <th>player_name</th>\n",
       "      <th>club</th>\n",
       "      <th>position</th>\n",
       "      <th>pass_accuracy</th>\n",
       "      <th>pass_attempted</th>\n",
       "      <th>pass_completed</th>\n",
       "      <th>cross_accuracy</th>\n",
       "      <th>cross_attempted</th>\n",
       "      <th>cross_complted</th>\n",
       "      <th>freekicks_taken</th>\n",
       "      <th>match_played</th>\n",
       "    </tr>\n",
       "  </thead>\n",
       "  <tbody>\n",
       "    <tr>\n",
       "      <th>0</th>\n",
       "      <td>1</td>\n",
       "      <td>Erokhin</td>\n",
       "      <td>Zenit</td>\n",
       "      <td>Midfielder</td>\n",
       "      <td>98.0</td>\n",
       "      <td>27</td>\n",
       "      <td>26</td>\n",
       "      <td>0</td>\n",
       "      <td>2</td>\n",
       "      <td>0</td>\n",
       "      <td>0</td>\n",
       "      <td>6</td>\n",
       "    </tr>\n",
       "    <tr>\n",
       "      <th>1</th>\n",
       "      <td>2</td>\n",
       "      <td>Eric García</td>\n",
       "      <td>Barcelona</td>\n",
       "      <td>Defender</td>\n",
       "      <td>97.5</td>\n",
       "      <td>203</td>\n",
       "      <td>197</td>\n",
       "      <td>0</td>\n",
       "      <td>0</td>\n",
       "      <td>0</td>\n",
       "      <td>1</td>\n",
       "      <td>4</td>\n",
       "    </tr>\n",
       "    <tr>\n",
       "      <th>2</th>\n",
       "      <td>3</td>\n",
       "      <td>Ulreich</td>\n",
       "      <td>Bayern</td>\n",
       "      <td>Goalkeeper</td>\n",
       "      <td>97.0</td>\n",
       "      <td>32</td>\n",
       "      <td>31</td>\n",
       "      <td>0</td>\n",
       "      <td>0</td>\n",
       "      <td>0</td>\n",
       "      <td>1</td>\n",
       "      <td>1</td>\n",
       "    </tr>\n",
       "    <tr>\n",
       "      <th>3</th>\n",
       "      <td>4</td>\n",
       "      <td>Rugani</td>\n",
       "      <td>Juventus</td>\n",
       "      <td>Defender</td>\n",
       "      <td>96.8</td>\n",
       "      <td>130</td>\n",
       "      <td>122</td>\n",
       "      <td>0</td>\n",
       "      <td>0</td>\n",
       "      <td>0</td>\n",
       "      <td>0</td>\n",
       "      <td>4</td>\n",
       "    </tr>\n",
       "    <tr>\n",
       "      <th>4</th>\n",
       "      <td>5</td>\n",
       "      <td>J. Timber</td>\n",
       "      <td>Ajax</td>\n",
       "      <td>Midfielder</td>\n",
       "      <td>95.8</td>\n",
       "      <td>497</td>\n",
       "      <td>474</td>\n",
       "      <td>0</td>\n",
       "      <td>1</td>\n",
       "      <td>0</td>\n",
       "      <td>14</td>\n",
       "      <td>8</td>\n",
       "    </tr>\n",
       "  </tbody>\n",
       "</table>\n",
       "</div>"
      ],
      "text/plain": [
       "   serial  player_name       club    position  pass_accuracy  pass_attempted  \\\n",
       "0       1      Erokhin      Zenit  Midfielder           98.0              27   \n",
       "1       2  Eric García  Barcelona    Defender           97.5             203   \n",
       "2       3      Ulreich     Bayern  Goalkeeper           97.0              32   \n",
       "3       4       Rugani   Juventus    Defender           96.8             130   \n",
       "4       5    J. Timber       Ajax  Midfielder           95.8             497   \n",
       "\n",
       "   pass_completed  cross_accuracy  cross_attempted  cross_complted  \\\n",
       "0              26               0                2               0   \n",
       "1             197               0                0               0   \n",
       "2              31               0                0               0   \n",
       "3             122               0                0               0   \n",
       "4             474               0                1               0   \n",
       "\n",
       "   freekicks_taken  match_played  \n",
       "0                0             6  \n",
       "1                1             4  \n",
       "2                1             1  \n",
       "3                0             4  \n",
       "4               14             8  "
      ]
     },
     "execution_count": 7,
     "metadata": {},
     "output_type": "execute_result"
    }
   ],
   "source": [
    "distribution.head()"
   ]
  },
  {
   "cell_type": "code",
   "execution_count": 8,
   "id": "e6d75078",
   "metadata": {},
   "outputs": [
    {
     "data": {
      "text/html": [
       "<div>\n",
       "<style scoped>\n",
       "    .dataframe tbody tr th:only-of-type {\n",
       "        vertical-align: middle;\n",
       "    }\n",
       "\n",
       "    .dataframe tbody tr th {\n",
       "        vertical-align: top;\n",
       "    }\n",
       "\n",
       "    .dataframe thead th {\n",
       "        text-align: right;\n",
       "    }\n",
       "</style>\n",
       "<table border=\"1\" class=\"dataframe\">\n",
       "  <thead>\n",
       "    <tr style=\"text-align: right;\">\n",
       "      <th></th>\n",
       "      <th>serial</th>\n",
       "      <th>player_name</th>\n",
       "      <th>club</th>\n",
       "      <th>position</th>\n",
       "      <th>saved</th>\n",
       "      <th>conceded</th>\n",
       "      <th>saved_penalties</th>\n",
       "      <th>cleansheets</th>\n",
       "      <th>punches made</th>\n",
       "      <th>match_played</th>\n",
       "    </tr>\n",
       "  </thead>\n",
       "  <tbody>\n",
       "    <tr>\n",
       "      <th>0</th>\n",
       "      <td>1</td>\n",
       "      <td>Courtois</td>\n",
       "      <td>Real Madrid</td>\n",
       "      <td>Goalkeeper</td>\n",
       "      <td>61</td>\n",
       "      <td>14</td>\n",
       "      <td>1</td>\n",
       "      <td>5</td>\n",
       "      <td>4</td>\n",
       "      <td>13</td>\n",
       "    </tr>\n",
       "    <tr>\n",
       "      <th>1</th>\n",
       "      <td>2</td>\n",
       "      <td>Rulli</td>\n",
       "      <td>Villarreal</td>\n",
       "      <td>Goalkeeper</td>\n",
       "      <td>41</td>\n",
       "      <td>16</td>\n",
       "      <td>0</td>\n",
       "      <td>3</td>\n",
       "      <td>12</td>\n",
       "      <td>12</td>\n",
       "    </tr>\n",
       "    <tr>\n",
       "      <th>2</th>\n",
       "      <td>3</td>\n",
       "      <td>Vlachodimos</td>\n",
       "      <td>Benfica</td>\n",
       "      <td>Goalkeeper</td>\n",
       "      <td>38</td>\n",
       "      <td>17</td>\n",
       "      <td>1</td>\n",
       "      <td>5</td>\n",
       "      <td>5</td>\n",
       "      <td>10</td>\n",
       "    </tr>\n",
       "    <tr>\n",
       "      <th>3</th>\n",
       "      <td>4</td>\n",
       "      <td>Athanasiadis</td>\n",
       "      <td>Sheriff</td>\n",
       "      <td>Goalkeeper</td>\n",
       "      <td>29</td>\n",
       "      <td>8</td>\n",
       "      <td>0</td>\n",
       "      <td>1</td>\n",
       "      <td>2</td>\n",
       "      <td>5</td>\n",
       "    </tr>\n",
       "    <tr>\n",
       "      <th>4</th>\n",
       "      <td>5</td>\n",
       "      <td>Mignolet</td>\n",
       "      <td>Club Brugge</td>\n",
       "      <td>Goalkeeper</td>\n",
       "      <td>28</td>\n",
       "      <td>20</td>\n",
       "      <td>0</td>\n",
       "      <td>0</td>\n",
       "      <td>1</td>\n",
       "      <td>6</td>\n",
       "    </tr>\n",
       "  </tbody>\n",
       "</table>\n",
       "</div>"
      ],
      "text/plain": [
       "   serial   player_name         club    position  saved  conceded  \\\n",
       "0       1      Courtois  Real Madrid  Goalkeeper     61        14   \n",
       "1       2         Rulli   Villarreal  Goalkeeper     41        16   \n",
       "2       3   Vlachodimos      Benfica  Goalkeeper     38        17   \n",
       "3       4  Athanasiadis      Sheriff  Goalkeeper     29         8   \n",
       "4       5      Mignolet  Club Brugge  Goalkeeper     28        20   \n",
       "\n",
       "   saved_penalties  cleansheets  punches made  match_played  \n",
       "0                1            5             4            13  \n",
       "1                0            3            12            12  \n",
       "2                1            5             5            10  \n",
       "3                0            1             2             5  \n",
       "4                0            0             1             6  "
      ]
     },
     "execution_count": 8,
     "metadata": {},
     "output_type": "execute_result"
    }
   ],
   "source": [
    "goalkeeping.head()"
   ]
  },
  {
   "cell_type": "code",
   "execution_count": 9,
   "id": "5816f03e",
   "metadata": {},
   "outputs": [
    {
     "data": {
      "text/html": [
       "<div>\n",
       "<style scoped>\n",
       "    .dataframe tbody tr th:only-of-type {\n",
       "        vertical-align: middle;\n",
       "    }\n",
       "\n",
       "    .dataframe tbody tr th {\n",
       "        vertical-align: top;\n",
       "    }\n",
       "\n",
       "    .dataframe thead th {\n",
       "        text-align: right;\n",
       "    }\n",
       "</style>\n",
       "<table border=\"1\" class=\"dataframe\">\n",
       "  <thead>\n",
       "    <tr style=\"text-align: right;\">\n",
       "      <th></th>\n",
       "      <th>serial</th>\n",
       "      <th>player_name</th>\n",
       "      <th>club</th>\n",
       "      <th>position</th>\n",
       "      <th>goals</th>\n",
       "      <th>right_foot</th>\n",
       "      <th>left_foot</th>\n",
       "      <th>headers</th>\n",
       "      <th>others</th>\n",
       "      <th>inside_area</th>\n",
       "      <th>outside_areas</th>\n",
       "      <th>penalties</th>\n",
       "      <th>match_played</th>\n",
       "    </tr>\n",
       "  </thead>\n",
       "  <tbody>\n",
       "    <tr>\n",
       "      <th>0</th>\n",
       "      <td>1</td>\n",
       "      <td>Benzema</td>\n",
       "      <td>Real Madrid</td>\n",
       "      <td>Forward</td>\n",
       "      <td>15</td>\n",
       "      <td>11</td>\n",
       "      <td>1</td>\n",
       "      <td>3</td>\n",
       "      <td>0</td>\n",
       "      <td>13</td>\n",
       "      <td>2</td>\n",
       "      <td>3</td>\n",
       "      <td>12</td>\n",
       "    </tr>\n",
       "    <tr>\n",
       "      <th>1</th>\n",
       "      <td>2</td>\n",
       "      <td>Lewandowski</td>\n",
       "      <td>Bayern</td>\n",
       "      <td>Forward</td>\n",
       "      <td>13</td>\n",
       "      <td>8</td>\n",
       "      <td>3</td>\n",
       "      <td>1</td>\n",
       "      <td>1</td>\n",
       "      <td>13</td>\n",
       "      <td>0</td>\n",
       "      <td>3</td>\n",
       "      <td>10</td>\n",
       "    </tr>\n",
       "    <tr>\n",
       "      <th>2</th>\n",
       "      <td>3</td>\n",
       "      <td>Haller</td>\n",
       "      <td>Ajax</td>\n",
       "      <td>Forward</td>\n",
       "      <td>11</td>\n",
       "      <td>3</td>\n",
       "      <td>4</td>\n",
       "      <td>3</td>\n",
       "      <td>1</td>\n",
       "      <td>11</td>\n",
       "      <td>0</td>\n",
       "      <td>1</td>\n",
       "      <td>8</td>\n",
       "    </tr>\n",
       "    <tr>\n",
       "      <th>3</th>\n",
       "      <td>4</td>\n",
       "      <td>Salah</td>\n",
       "      <td>Liverpool</td>\n",
       "      <td>Forward</td>\n",
       "      <td>8</td>\n",
       "      <td>0</td>\n",
       "      <td>8</td>\n",
       "      <td>0</td>\n",
       "      <td>0</td>\n",
       "      <td>7</td>\n",
       "      <td>1</td>\n",
       "      <td>1</td>\n",
       "      <td>13</td>\n",
       "    </tr>\n",
       "    <tr>\n",
       "      <th>4</th>\n",
       "      <td>5</td>\n",
       "      <td>Nkunku</td>\n",
       "      <td>Leipzig</td>\n",
       "      <td>Midfielder</td>\n",
       "      <td>7</td>\n",
       "      <td>3</td>\n",
       "      <td>1</td>\n",
       "      <td>3</td>\n",
       "      <td>0</td>\n",
       "      <td>7</td>\n",
       "      <td>0</td>\n",
       "      <td>0</td>\n",
       "      <td>6</td>\n",
       "    </tr>\n",
       "  </tbody>\n",
       "</table>\n",
       "</div>"
      ],
      "text/plain": [
       "   serial  player_name         club    position  goals  right_foot  left_foot  \\\n",
       "0       1      Benzema  Real Madrid     Forward     15          11          1   \n",
       "1       2  Lewandowski       Bayern     Forward     13           8          3   \n",
       "2       3       Haller         Ajax     Forward     11           3          4   \n",
       "3       4        Salah    Liverpool     Forward      8           0          8   \n",
       "4       5       Nkunku      Leipzig  Midfielder      7           3          1   \n",
       "\n",
       "   headers  others  inside_area  outside_areas  penalties  match_played  \n",
       "0        3       0           13              2          3            12  \n",
       "1        1       1           13              0          3            10  \n",
       "2        3       1           11              0          1             8  \n",
       "3        0       0            7              1          1            13  \n",
       "4        3       0            7              0          0             6  "
      ]
     },
     "execution_count": 9,
     "metadata": {},
     "output_type": "execute_result"
    }
   ],
   "source": [
    "goals.head()"
   ]
  },
  {
   "cell_type": "code",
   "execution_count": 10,
   "id": "e8c1a164",
   "metadata": {},
   "outputs": [
    {
     "data": {
      "text/html": [
       "<div>\n",
       "<style scoped>\n",
       "    .dataframe tbody tr th:only-of-type {\n",
       "        vertical-align: middle;\n",
       "    }\n",
       "\n",
       "    .dataframe tbody tr th {\n",
       "        vertical-align: top;\n",
       "    }\n",
       "\n",
       "    .dataframe thead th {\n",
       "        text-align: right;\n",
       "    }\n",
       "</style>\n",
       "<table border=\"1\" class=\"dataframe\">\n",
       "  <thead>\n",
       "    <tr style=\"text-align: right;\">\n",
       "      <th></th>\n",
       "      <th>player_name</th>\n",
       "      <th>club</th>\n",
       "      <th>position</th>\n",
       "      <th>minutes_played</th>\n",
       "      <th>match_played</th>\n",
       "      <th>goals</th>\n",
       "      <th>assists</th>\n",
       "      <th>distance_covered</th>\n",
       "    </tr>\n",
       "  </thead>\n",
       "  <tbody>\n",
       "    <tr>\n",
       "      <th>0</th>\n",
       "      <td>Courtois</td>\n",
       "      <td>Real Madrid</td>\n",
       "      <td>Goalkeeper</td>\n",
       "      <td>1230</td>\n",
       "      <td>13</td>\n",
       "      <td>0</td>\n",
       "      <td>0</td>\n",
       "      <td>64.2</td>\n",
       "    </tr>\n",
       "    <tr>\n",
       "      <th>1</th>\n",
       "      <td>Vinícius Júnior</td>\n",
       "      <td>Real Madrid</td>\n",
       "      <td>Forward</td>\n",
       "      <td>1199</td>\n",
       "      <td>13</td>\n",
       "      <td>4</td>\n",
       "      <td>6</td>\n",
       "      <td>133.0</td>\n",
       "    </tr>\n",
       "    <tr>\n",
       "      <th>2</th>\n",
       "      <td>Benzema</td>\n",
       "      <td>Real Madrid</td>\n",
       "      <td>Forward</td>\n",
       "      <td>1106</td>\n",
       "      <td>12</td>\n",
       "      <td>15</td>\n",
       "      <td>1</td>\n",
       "      <td>121.5</td>\n",
       "    </tr>\n",
       "    <tr>\n",
       "      <th>3</th>\n",
       "      <td>Modrić</td>\n",
       "      <td>Real Madrid</td>\n",
       "      <td>Midfielder</td>\n",
       "      <td>1077</td>\n",
       "      <td>13</td>\n",
       "      <td>0</td>\n",
       "      <td>4</td>\n",
       "      <td>124.5</td>\n",
       "    </tr>\n",
       "    <tr>\n",
       "      <th>4</th>\n",
       "      <td>Éder Militão</td>\n",
       "      <td>Real Madrid</td>\n",
       "      <td>Defender</td>\n",
       "      <td>1076</td>\n",
       "      <td>12</td>\n",
       "      <td>0</td>\n",
       "      <td>0</td>\n",
       "      <td>110.4</td>\n",
       "    </tr>\n",
       "  </tbody>\n",
       "</table>\n",
       "</div>"
      ],
      "text/plain": [
       "       player_name         club    position  minutes_played  match_played  \\\n",
       "0         Courtois  Real Madrid  Goalkeeper            1230            13   \n",
       "1  Vinícius Júnior  Real Madrid     Forward            1199            13   \n",
       "2          Benzema  Real Madrid     Forward            1106            12   \n",
       "3           Modrić  Real Madrid  Midfielder            1077            13   \n",
       "4     Éder Militão  Real Madrid    Defender            1076            12   \n",
       "\n",
       "   goals  assists distance_covered  \n",
       "0      0        0             64.2  \n",
       "1      4        6            133.0  \n",
       "2     15        1            121.5  \n",
       "3      0        4            124.5  \n",
       "4      0        0            110.4  "
      ]
     },
     "execution_count": 10,
     "metadata": {},
     "output_type": "execute_result"
    }
   ],
   "source": [
    "key_stats.head()"
   ]
  },
  {
   "cell_type": "code",
   "execution_count": 11,
   "id": "450cad9e",
   "metadata": {},
   "outputs": [
    {
     "data": {
      "text/html": [
       "<div>\n",
       "<style scoped>\n",
       "    .dataframe tbody tr th:only-of-type {\n",
       "        vertical-align: middle;\n",
       "    }\n",
       "\n",
       "    .dataframe tbody tr th {\n",
       "        vertical-align: top;\n",
       "    }\n",
       "\n",
       "    .dataframe thead th {\n",
       "        text-align: right;\n",
       "    }\n",
       "</style>\n",
       "<table border=\"1\" class=\"dataframe\">\n",
       "  <thead>\n",
       "    <tr style=\"text-align: right;\">\n",
       "      <th></th>\n",
       "      <th>serial</th>\n",
       "      <th>assists</th>\n",
       "      <th>corner_taken</th>\n",
       "      <th>offsides</th>\n",
       "      <th>dribbles</th>\n",
       "      <th>match_played</th>\n",
       "    </tr>\n",
       "  </thead>\n",
       "  <tbody>\n",
       "    <tr>\n",
       "      <th>count</th>\n",
       "      <td>176.000000</td>\n",
       "      <td>176.000000</td>\n",
       "      <td>176.000000</td>\n",
       "      <td>176.000000</td>\n",
       "      <td>176.000000</td>\n",
       "      <td>176.000000</td>\n",
       "    </tr>\n",
       "    <tr>\n",
       "      <th>mean</th>\n",
       "      <td>47.613636</td>\n",
       "      <td>1.596591</td>\n",
       "      <td>3.340909</td>\n",
       "      <td>1.420455</td>\n",
       "      <td>8.982955</td>\n",
       "      <td>6.988636</td>\n",
       "    </tr>\n",
       "    <tr>\n",
       "      <th>std</th>\n",
       "      <td>22.527916</td>\n",
       "      <td>1.042957</td>\n",
       "      <td>6.266257</td>\n",
       "      <td>2.246122</td>\n",
       "      <td>11.190034</td>\n",
       "      <td>2.563454</td>\n",
       "    </tr>\n",
       "    <tr>\n",
       "      <th>min</th>\n",
       "      <td>1.000000</td>\n",
       "      <td>1.000000</td>\n",
       "      <td>0.000000</td>\n",
       "      <td>0.000000</td>\n",
       "      <td>0.000000</td>\n",
       "      <td>1.000000</td>\n",
       "    </tr>\n",
       "    <tr>\n",
       "      <th>25%</th>\n",
       "      <td>24.000000</td>\n",
       "      <td>1.000000</td>\n",
       "      <td>0.000000</td>\n",
       "      <td>0.000000</td>\n",
       "      <td>2.000000</td>\n",
       "      <td>5.000000</td>\n",
       "    </tr>\n",
       "    <tr>\n",
       "      <th>50%</th>\n",
       "      <td>64.000000</td>\n",
       "      <td>1.000000</td>\n",
       "      <td>0.000000</td>\n",
       "      <td>0.000000</td>\n",
       "      <td>5.000000</td>\n",
       "      <td>6.500000</td>\n",
       "    </tr>\n",
       "    <tr>\n",
       "      <th>75%</th>\n",
       "      <td>64.000000</td>\n",
       "      <td>2.000000</td>\n",
       "      <td>4.250000</td>\n",
       "      <td>2.000000</td>\n",
       "      <td>12.000000</td>\n",
       "      <td>8.000000</td>\n",
       "    </tr>\n",
       "    <tr>\n",
       "      <th>max</th>\n",
       "      <td>64.000000</td>\n",
       "      <td>7.000000</td>\n",
       "      <td>36.000000</td>\n",
       "      <td>10.000000</td>\n",
       "      <td>83.000000</td>\n",
       "      <td>13.000000</td>\n",
       "    </tr>\n",
       "  </tbody>\n",
       "</table>\n",
       "</div>"
      ],
      "text/plain": [
       "           serial     assists  corner_taken    offsides    dribbles  \\\n",
       "count  176.000000  176.000000    176.000000  176.000000  176.000000   \n",
       "mean    47.613636    1.596591      3.340909    1.420455    8.982955   \n",
       "std     22.527916    1.042957      6.266257    2.246122   11.190034   \n",
       "min      1.000000    1.000000      0.000000    0.000000    0.000000   \n",
       "25%     24.000000    1.000000      0.000000    0.000000    2.000000   \n",
       "50%     64.000000    1.000000      0.000000    0.000000    5.000000   \n",
       "75%     64.000000    2.000000      4.250000    2.000000   12.000000   \n",
       "max     64.000000    7.000000     36.000000   10.000000   83.000000   \n",
       "\n",
       "       match_played  \n",
       "count    176.000000  \n",
       "mean       6.988636  \n",
       "std        2.563454  \n",
       "min        1.000000  \n",
       "25%        5.000000  \n",
       "50%        6.500000  \n",
       "75%        8.000000  \n",
       "max       13.000000  "
      ]
     },
     "execution_count": 11,
     "metadata": {},
     "output_type": "execute_result"
    }
   ],
   "source": [
    "attacking.describe()"
   ]
  },
  {
   "cell_type": "code",
   "execution_count": 12,
   "id": "f7359f88",
   "metadata": {},
   "outputs": [
    {
     "data": {
      "text/html": [
       "<div>\n",
       "<style scoped>\n",
       "    .dataframe tbody tr th:only-of-type {\n",
       "        vertical-align: middle;\n",
       "    }\n",
       "\n",
       "    .dataframe tbody tr th {\n",
       "        vertical-align: top;\n",
       "    }\n",
       "\n",
       "    .dataframe thead th {\n",
       "        text-align: right;\n",
       "    }\n",
       "</style>\n",
       "<table border=\"1\" class=\"dataframe\">\n",
       "  <thead>\n",
       "    <tr style=\"text-align: right;\">\n",
       "      <th></th>\n",
       "      <th>serial</th>\n",
       "      <th>total_attempts</th>\n",
       "      <th>on_target</th>\n",
       "      <th>off_target</th>\n",
       "      <th>blocked</th>\n",
       "      <th>match_played</th>\n",
       "    </tr>\n",
       "  </thead>\n",
       "  <tbody>\n",
       "    <tr>\n",
       "      <th>count</th>\n",
       "      <td>546.000000</td>\n",
       "      <td>546.000000</td>\n",
       "      <td>546.000000</td>\n",
       "      <td>546.000000</td>\n",
       "      <td>546.000000</td>\n",
       "      <td>546.000000</td>\n",
       "    </tr>\n",
       "    <tr>\n",
       "      <th>mean</th>\n",
       "      <td>244.144689</td>\n",
       "      <td>5.653846</td>\n",
       "      <td>1.967033</td>\n",
       "      <td>2.241758</td>\n",
       "      <td>1.445055</td>\n",
       "      <td>5.749084</td>\n",
       "    </tr>\n",
       "    <tr>\n",
       "      <th>std</th>\n",
       "      <td>138.239810</td>\n",
       "      <td>6.119540</td>\n",
       "      <td>2.950169</td>\n",
       "      <td>2.302009</td>\n",
       "      <td>1.895844</td>\n",
       "      <td>2.511852</td>\n",
       "    </tr>\n",
       "    <tr>\n",
       "      <th>min</th>\n",
       "      <td>1.000000</td>\n",
       "      <td>1.000000</td>\n",
       "      <td>0.000000</td>\n",
       "      <td>0.000000</td>\n",
       "      <td>0.000000</td>\n",
       "      <td>1.000000</td>\n",
       "    </tr>\n",
       "    <tr>\n",
       "      <th>25%</th>\n",
       "      <td>130.000000</td>\n",
       "      <td>2.000000</td>\n",
       "      <td>0.000000</td>\n",
       "      <td>1.000000</td>\n",
       "      <td>0.000000</td>\n",
       "      <td>4.000000</td>\n",
       "    </tr>\n",
       "    <tr>\n",
       "      <th>50%</th>\n",
       "      <td>219.000000</td>\n",
       "      <td>4.000000</td>\n",
       "      <td>1.000000</td>\n",
       "      <td>1.000000</td>\n",
       "      <td>1.000000</td>\n",
       "      <td>6.000000</td>\n",
       "    </tr>\n",
       "    <tr>\n",
       "      <th>75%</th>\n",
       "      <td>347.000000</td>\n",
       "      <td>7.000000</td>\n",
       "      <td>2.000000</td>\n",
       "      <td>3.000000</td>\n",
       "      <td>2.000000</td>\n",
       "      <td>7.000000</td>\n",
       "    </tr>\n",
       "    <tr>\n",
       "      <th>max</th>\n",
       "      <td>440.000000</td>\n",
       "      <td>45.000000</td>\n",
       "      <td>23.000000</td>\n",
       "      <td>13.000000</td>\n",
       "      <td>11.000000</td>\n",
       "      <td>13.000000</td>\n",
       "    </tr>\n",
       "  </tbody>\n",
       "</table>\n",
       "</div>"
      ],
      "text/plain": [
       "           serial  total_attempts   on_target  off_target     blocked  \\\n",
       "count  546.000000      546.000000  546.000000  546.000000  546.000000   \n",
       "mean   244.144689        5.653846    1.967033    2.241758    1.445055   \n",
       "std    138.239810        6.119540    2.950169    2.302009    1.895844   \n",
       "min      1.000000        1.000000    0.000000    0.000000    0.000000   \n",
       "25%    130.000000        2.000000    0.000000    1.000000    0.000000   \n",
       "50%    219.000000        4.000000    1.000000    1.000000    1.000000   \n",
       "75%    347.000000        7.000000    2.000000    3.000000    2.000000   \n",
       "max    440.000000       45.000000   23.000000   13.000000   11.000000   \n",
       "\n",
       "       match_played  \n",
       "count    546.000000  \n",
       "mean       5.749084  \n",
       "std        2.511852  \n",
       "min        1.000000  \n",
       "25%        4.000000  \n",
       "50%        6.000000  \n",
       "75%        7.000000  \n",
       "max       13.000000  "
      ]
     },
     "execution_count": 12,
     "metadata": {},
     "output_type": "execute_result"
    }
   ],
   "source": [
    "attempts.describe()"
   ]
  },
  {
   "cell_type": "code",
   "execution_count": 13,
   "id": "31c236d8",
   "metadata": {},
   "outputs": [
    {
     "data": {
      "text/html": [
       "<div>\n",
       "<style scoped>\n",
       "    .dataframe tbody tr th:only-of-type {\n",
       "        vertical-align: middle;\n",
       "    }\n",
       "\n",
       "    .dataframe tbody tr th {\n",
       "        vertical-align: top;\n",
       "    }\n",
       "\n",
       "    .dataframe thead th {\n",
       "        text-align: right;\n",
       "    }\n",
       "</style>\n",
       "<table border=\"1\" class=\"dataframe\">\n",
       "  <thead>\n",
       "    <tr style=\"text-align: right;\">\n",
       "      <th></th>\n",
       "      <th>serial</th>\n",
       "      <th>balls_recoverd</th>\n",
       "      <th>tackles</th>\n",
       "      <th>t_won</th>\n",
       "      <th>t_lost</th>\n",
       "      <th>clearance_attempted</th>\n",
       "      <th>match_played</th>\n",
       "    </tr>\n",
       "  </thead>\n",
       "  <tbody>\n",
       "    <tr>\n",
       "      <th>count</th>\n",
       "      <td>627.000000</td>\n",
       "      <td>627.000000</td>\n",
       "      <td>627.000000</td>\n",
       "      <td>627.000000</td>\n",
       "      <td>627.000000</td>\n",
       "      <td>627.000000</td>\n",
       "      <td>627.000000</td>\n",
       "    </tr>\n",
       "    <tr>\n",
       "      <th>mean</th>\n",
       "      <td>304.298246</td>\n",
       "      <td>16.406699</td>\n",
       "      <td>4.732057</td>\n",
       "      <td>2.068581</td>\n",
       "      <td>2.663477</td>\n",
       "      <td>6.314195</td>\n",
       "      <td>5.472089</td>\n",
       "    </tr>\n",
       "    <tr>\n",
       "      <th>std</th>\n",
       "      <td>174.780489</td>\n",
       "      <td>14.760673</td>\n",
       "      <td>5.012920</td>\n",
       "      <td>2.607452</td>\n",
       "      <td>2.915200</td>\n",
       "      <td>8.458044</td>\n",
       "      <td>2.548652</td>\n",
       "    </tr>\n",
       "    <tr>\n",
       "      <th>min</th>\n",
       "      <td>1.000000</td>\n",
       "      <td>1.000000</td>\n",
       "      <td>0.000000</td>\n",
       "      <td>0.000000</td>\n",
       "      <td>0.000000</td>\n",
       "      <td>0.000000</td>\n",
       "      <td>1.000000</td>\n",
       "    </tr>\n",
       "    <tr>\n",
       "      <th>25%</th>\n",
       "      <td>154.500000</td>\n",
       "      <td>5.000000</td>\n",
       "      <td>1.000000</td>\n",
       "      <td>0.000000</td>\n",
       "      <td>1.000000</td>\n",
       "      <td>1.000000</td>\n",
       "      <td>4.000000</td>\n",
       "    </tr>\n",
       "    <tr>\n",
       "      <th>50%</th>\n",
       "      <td>300.000000</td>\n",
       "      <td>12.000000</td>\n",
       "      <td>3.000000</td>\n",
       "      <td>1.000000</td>\n",
       "      <td>2.000000</td>\n",
       "      <td>3.000000</td>\n",
       "      <td>5.000000</td>\n",
       "    </tr>\n",
       "    <tr>\n",
       "      <th>75%</th>\n",
       "      <td>448.000000</td>\n",
       "      <td>24.500000</td>\n",
       "      <td>7.000000</td>\n",
       "      <td>3.000000</td>\n",
       "      <td>4.000000</td>\n",
       "      <td>8.000000</td>\n",
       "      <td>7.000000</td>\n",
       "    </tr>\n",
       "    <tr>\n",
       "      <th>max</th>\n",
       "      <td>578.000000</td>\n",
       "      <td>76.000000</td>\n",
       "      <td>35.000000</td>\n",
       "      <td>18.000000</td>\n",
       "      <td>19.000000</td>\n",
       "      <td>62.000000</td>\n",
       "      <td>13.000000</td>\n",
       "    </tr>\n",
       "  </tbody>\n",
       "</table>\n",
       "</div>"
      ],
      "text/plain": [
       "           serial  balls_recoverd     tackles       t_won      t_lost  \\\n",
       "count  627.000000      627.000000  627.000000  627.000000  627.000000   \n",
       "mean   304.298246       16.406699    4.732057    2.068581    2.663477   \n",
       "std    174.780489       14.760673    5.012920    2.607452    2.915200   \n",
       "min      1.000000        1.000000    0.000000    0.000000    0.000000   \n",
       "25%    154.500000        5.000000    1.000000    0.000000    1.000000   \n",
       "50%    300.000000       12.000000    3.000000    1.000000    2.000000   \n",
       "75%    448.000000       24.500000    7.000000    3.000000    4.000000   \n",
       "max    578.000000       76.000000   35.000000   18.000000   19.000000   \n",
       "\n",
       "       clearance_attempted  match_played  \n",
       "count           627.000000    627.000000  \n",
       "mean              6.314195      5.472089  \n",
       "std               8.458044      2.548652  \n",
       "min               0.000000      1.000000  \n",
       "25%               1.000000      4.000000  \n",
       "50%               3.000000      5.000000  \n",
       "75%               8.000000      7.000000  \n",
       "max              62.000000     13.000000  "
      ]
     },
     "execution_count": 13,
     "metadata": {},
     "output_type": "execute_result"
    }
   ],
   "source": [
    "defending.describe()"
   ]
  },
  {
   "cell_type": "code",
   "execution_count": 14,
   "id": "98451de4",
   "metadata": {},
   "outputs": [
    {
     "data": {
      "text/html": [
       "<div>\n",
       "<style scoped>\n",
       "    .dataframe tbody tr th:only-of-type {\n",
       "        vertical-align: middle;\n",
       "    }\n",
       "\n",
       "    .dataframe tbody tr th {\n",
       "        vertical-align: top;\n",
       "    }\n",
       "\n",
       "    .dataframe thead th {\n",
       "        text-align: right;\n",
       "    }\n",
       "</style>\n",
       "<table border=\"1\" class=\"dataframe\">\n",
       "  <thead>\n",
       "    <tr style=\"text-align: right;\">\n",
       "      <th></th>\n",
       "      <th>serial</th>\n",
       "      <th>fouls_committed</th>\n",
       "      <th>fouls_suffered</th>\n",
       "      <th>yellow</th>\n",
       "      <th>red</th>\n",
       "      <th>minutes_played</th>\n",
       "      <th>match_played</th>\n",
       "    </tr>\n",
       "  </thead>\n",
       "  <tbody>\n",
       "    <tr>\n",
       "      <th>count</th>\n",
       "      <td>584.000000</td>\n",
       "      <td>584.000000</td>\n",
       "      <td>584.000000</td>\n",
       "      <td>584.000000</td>\n",
       "      <td>584.000000</td>\n",
       "      <td>584.000000</td>\n",
       "      <td>584.000000</td>\n",
       "    </tr>\n",
       "    <tr>\n",
       "      <th>mean</th>\n",
       "      <td>261.876712</td>\n",
       "      <td>4.960616</td>\n",
       "      <td>4.525685</td>\n",
       "      <td>0.842466</td>\n",
       "      <td>0.042808</td>\n",
       "      <td>374.214041</td>\n",
       "      <td>5.690068</td>\n",
       "    </tr>\n",
       "    <tr>\n",
       "      <th>std</th>\n",
       "      <td>154.692375</td>\n",
       "      <td>3.774995</td>\n",
       "      <td>4.247815</td>\n",
       "      <td>0.933011</td>\n",
       "      <td>0.210895</td>\n",
       "      <td>230.626235</td>\n",
       "      <td>2.467248</td>\n",
       "    </tr>\n",
       "    <tr>\n",
       "      <th>min</th>\n",
       "      <td>1.000000</td>\n",
       "      <td>1.000000</td>\n",
       "      <td>0.000000</td>\n",
       "      <td>0.000000</td>\n",
       "      <td>0.000000</td>\n",
       "      <td>4.000000</td>\n",
       "      <td>1.000000</td>\n",
       "    </tr>\n",
       "    <tr>\n",
       "      <th>25%</th>\n",
       "      <td>146.000000</td>\n",
       "      <td>2.000000</td>\n",
       "      <td>1.000000</td>\n",
       "      <td>0.000000</td>\n",
       "      <td>0.000000</td>\n",
       "      <td>193.500000</td>\n",
       "      <td>4.000000</td>\n",
       "    </tr>\n",
       "    <tr>\n",
       "      <th>50%</th>\n",
       "      <td>263.000000</td>\n",
       "      <td>4.000000</td>\n",
       "      <td>3.000000</td>\n",
       "      <td>1.000000</td>\n",
       "      <td>0.000000</td>\n",
       "      <td>349.500000</td>\n",
       "      <td>5.500000</td>\n",
       "    </tr>\n",
       "    <tr>\n",
       "      <th>75%</th>\n",
       "      <td>417.000000</td>\n",
       "      <td>6.000000</td>\n",
       "      <td>7.000000</td>\n",
       "      <td>1.000000</td>\n",
       "      <td>0.000000</td>\n",
       "      <td>520.750000</td>\n",
       "      <td>7.000000</td>\n",
       "    </tr>\n",
       "    <tr>\n",
       "      <th>max</th>\n",
       "      <td>491.000000</td>\n",
       "      <td>23.000000</td>\n",
       "      <td>24.000000</td>\n",
       "      <td>4.000000</td>\n",
       "      <td>2.000000</td>\n",
       "      <td>1199.000000</td>\n",
       "      <td>13.000000</td>\n",
       "    </tr>\n",
       "  </tbody>\n",
       "</table>\n",
       "</div>"
      ],
      "text/plain": [
       "           serial  fouls_committed  fouls_suffered      yellow         red  \\\n",
       "count  584.000000       584.000000      584.000000  584.000000  584.000000   \n",
       "mean   261.876712         4.960616        4.525685    0.842466    0.042808   \n",
       "std    154.692375         3.774995        4.247815    0.933011    0.210895   \n",
       "min      1.000000         1.000000        0.000000    0.000000    0.000000   \n",
       "25%    146.000000         2.000000        1.000000    0.000000    0.000000   \n",
       "50%    263.000000         4.000000        3.000000    1.000000    0.000000   \n",
       "75%    417.000000         6.000000        7.000000    1.000000    0.000000   \n",
       "max    491.000000        23.000000       24.000000    4.000000    2.000000   \n",
       "\n",
       "       minutes_played  match_played  \n",
       "count      584.000000    584.000000  \n",
       "mean       374.214041      5.690068  \n",
       "std        230.626235      2.467248  \n",
       "min          4.000000      1.000000  \n",
       "25%        193.500000      4.000000  \n",
       "50%        349.500000      5.500000  \n",
       "75%        520.750000      7.000000  \n",
       "max       1199.000000     13.000000  "
      ]
     },
     "execution_count": 14,
     "metadata": {},
     "output_type": "execute_result"
    }
   ],
   "source": [
    "disciplinary.describe()"
   ]
  },
  {
   "cell_type": "code",
   "execution_count": 15,
   "id": "5927b7c8",
   "metadata": {},
   "outputs": [
    {
     "data": {
      "text/html": [
       "<div>\n",
       "<style scoped>\n",
       "    .dataframe tbody tr th:only-of-type {\n",
       "        vertical-align: middle;\n",
       "    }\n",
       "\n",
       "    .dataframe tbody tr th {\n",
       "        vertical-align: top;\n",
       "    }\n",
       "\n",
       "    .dataframe thead th {\n",
       "        text-align: right;\n",
       "    }\n",
       "</style>\n",
       "<table border=\"1\" class=\"dataframe\">\n",
       "  <thead>\n",
       "    <tr style=\"text-align: right;\">\n",
       "      <th></th>\n",
       "      <th>serial</th>\n",
       "      <th>pass_accuracy</th>\n",
       "      <th>pass_attempted</th>\n",
       "      <th>pass_completed</th>\n",
       "      <th>cross_accuracy</th>\n",
       "      <th>cross_attempted</th>\n",
       "      <th>cross_complted</th>\n",
       "      <th>freekicks_taken</th>\n",
       "      <th>match_played</th>\n",
       "    </tr>\n",
       "  </thead>\n",
       "  <tbody>\n",
       "    <tr>\n",
       "      <th>count</th>\n",
       "      <td>608.000000</td>\n",
       "      <td>608.000000</td>\n",
       "      <td>608.000000</td>\n",
       "      <td>608.000000</td>\n",
       "      <td>608.000000</td>\n",
       "      <td>608.000000</td>\n",
       "      <td>608.000000</td>\n",
       "      <td>608.000000</td>\n",
       "      <td>608.000000</td>\n",
       "    </tr>\n",
       "    <tr>\n",
       "      <th>mean</th>\n",
       "      <td>303.110197</td>\n",
       "      <td>80.881086</td>\n",
       "      <td>196.628289</td>\n",
       "      <td>167.337171</td>\n",
       "      <td>16.876645</td>\n",
       "      <td>6.355263</td>\n",
       "      <td>1.705592</td>\n",
       "      <td>5.472039</td>\n",
       "      <td>5.805921</td>\n",
       "    </tr>\n",
       "    <tr>\n",
       "      <th>std</th>\n",
       "      <td>176.049031</td>\n",
       "      <td>10.032026</td>\n",
       "      <td>148.231241</td>\n",
       "      <td>135.014856</td>\n",
       "      <td>22.747585</td>\n",
       "      <td>9.401993</td>\n",
       "      <td>3.073054</td>\n",
       "      <td>6.898359</td>\n",
       "      <td>2.481928</td>\n",
       "    </tr>\n",
       "    <tr>\n",
       "      <th>min</th>\n",
       "      <td>1.000000</td>\n",
       "      <td>35.700000</td>\n",
       "      <td>9.000000</td>\n",
       "      <td>7.000000</td>\n",
       "      <td>0.000000</td>\n",
       "      <td>0.000000</td>\n",
       "      <td>0.000000</td>\n",
       "      <td>0.000000</td>\n",
       "      <td>1.000000</td>\n",
       "    </tr>\n",
       "    <tr>\n",
       "      <th>25%</th>\n",
       "      <td>142.000000</td>\n",
       "      <td>76.100000</td>\n",
       "      <td>86.750000</td>\n",
       "      <td>68.750000</td>\n",
       "      <td>0.000000</td>\n",
       "      <td>0.000000</td>\n",
       "      <td>0.000000</td>\n",
       "      <td>1.000000</td>\n",
       "      <td>4.000000</td>\n",
       "    </tr>\n",
       "    <tr>\n",
       "      <th>50%</th>\n",
       "      <td>304.000000</td>\n",
       "      <td>83.100000</td>\n",
       "      <td>162.500000</td>\n",
       "      <td>133.500000</td>\n",
       "      <td>0.000000</td>\n",
       "      <td>3.000000</td>\n",
       "      <td>0.000000</td>\n",
       "      <td>3.000000</td>\n",
       "      <td>6.000000</td>\n",
       "    </tr>\n",
       "    <tr>\n",
       "      <th>75%</th>\n",
       "      <td>456.000000</td>\n",
       "      <td>88.000000</td>\n",
       "      <td>259.750000</td>\n",
       "      <td>222.000000</td>\n",
       "      <td>29.000000</td>\n",
       "      <td>9.000000</td>\n",
       "      <td>2.000000</td>\n",
       "      <td>8.000000</td>\n",
       "      <td>7.000000</td>\n",
       "    </tr>\n",
       "    <tr>\n",
       "      <th>max</th>\n",
       "      <td>608.000000</td>\n",
       "      <td>98.000000</td>\n",
       "      <td>814.000000</td>\n",
       "      <td>760.000000</td>\n",
       "      <td>100.000000</td>\n",
       "      <td>81.000000</td>\n",
       "      <td>24.000000</td>\n",
       "      <td>53.000000</td>\n",
       "      <td>13.000000</td>\n",
       "    </tr>\n",
       "  </tbody>\n",
       "</table>\n",
       "</div>"
      ],
      "text/plain": [
       "           serial  pass_accuracy  pass_attempted  pass_completed  \\\n",
       "count  608.000000     608.000000      608.000000      608.000000   \n",
       "mean   303.110197      80.881086      196.628289      167.337171   \n",
       "std    176.049031      10.032026      148.231241      135.014856   \n",
       "min      1.000000      35.700000        9.000000        7.000000   \n",
       "25%    142.000000      76.100000       86.750000       68.750000   \n",
       "50%    304.000000      83.100000      162.500000      133.500000   \n",
       "75%    456.000000      88.000000      259.750000      222.000000   \n",
       "max    608.000000      98.000000      814.000000      760.000000   \n",
       "\n",
       "       cross_accuracy  cross_attempted  cross_complted  freekicks_taken  \\\n",
       "count      608.000000       608.000000      608.000000       608.000000   \n",
       "mean        16.876645         6.355263        1.705592         5.472039   \n",
       "std         22.747585         9.401993        3.073054         6.898359   \n",
       "min          0.000000         0.000000        0.000000         0.000000   \n",
       "25%          0.000000         0.000000        0.000000         1.000000   \n",
       "50%          0.000000         3.000000        0.000000         3.000000   \n",
       "75%         29.000000         9.000000        2.000000         8.000000   \n",
       "max        100.000000        81.000000       24.000000        53.000000   \n",
       "\n",
       "       match_played  \n",
       "count    608.000000  \n",
       "mean       5.805921  \n",
       "std        2.481928  \n",
       "min        1.000000  \n",
       "25%        4.000000  \n",
       "50%        6.000000  \n",
       "75%        7.000000  \n",
       "max       13.000000  "
      ]
     },
     "execution_count": 15,
     "metadata": {},
     "output_type": "execute_result"
    }
   ],
   "source": [
    "distribution.describe()"
   ]
  },
  {
   "cell_type": "code",
   "execution_count": 16,
   "id": "04719cb0",
   "metadata": {},
   "outputs": [
    {
     "data": {
      "text/html": [
       "<div>\n",
       "<style scoped>\n",
       "    .dataframe tbody tr th:only-of-type {\n",
       "        vertical-align: middle;\n",
       "    }\n",
       "\n",
       "    .dataframe tbody tr th {\n",
       "        vertical-align: top;\n",
       "    }\n",
       "\n",
       "    .dataframe thead th {\n",
       "        text-align: right;\n",
       "    }\n",
       "</style>\n",
       "<table border=\"1\" class=\"dataframe\">\n",
       "  <thead>\n",
       "    <tr style=\"text-align: right;\">\n",
       "      <th></th>\n",
       "      <th>serial</th>\n",
       "      <th>saved</th>\n",
       "      <th>conceded</th>\n",
       "      <th>saved_penalties</th>\n",
       "      <th>cleansheets</th>\n",
       "      <th>punches made</th>\n",
       "      <th>match_played</th>\n",
       "    </tr>\n",
       "  </thead>\n",
       "  <tbody>\n",
       "    <tr>\n",
       "      <th>count</th>\n",
       "      <td>53.000000</td>\n",
       "      <td>53.000000</td>\n",
       "      <td>53.000000</td>\n",
       "      <td>53.000000</td>\n",
       "      <td>53.000000</td>\n",
       "      <td>53.000000</td>\n",
       "      <td>53.000000</td>\n",
       "    </tr>\n",
       "    <tr>\n",
       "      <th>mean</th>\n",
       "      <td>25.962264</td>\n",
       "      <td>13.528302</td>\n",
       "      <td>7.169811</td>\n",
       "      <td>0.113208</td>\n",
       "      <td>1.320755</td>\n",
       "      <td>2.075472</td>\n",
       "      <td>4.773585</td>\n",
       "    </tr>\n",
       "    <tr>\n",
       "      <th>std</th>\n",
       "      <td>15.197371</td>\n",
       "      <td>11.025502</td>\n",
       "      <td>5.158025</td>\n",
       "      <td>0.319878</td>\n",
       "      <td>1.541398</td>\n",
       "      <td>2.622749</td>\n",
       "      <td>3.394801</td>\n",
       "    </tr>\n",
       "    <tr>\n",
       "      <th>min</th>\n",
       "      <td>1.000000</td>\n",
       "      <td>1.000000</td>\n",
       "      <td>0.000000</td>\n",
       "      <td>0.000000</td>\n",
       "      <td>0.000000</td>\n",
       "      <td>0.000000</td>\n",
       "      <td>1.000000</td>\n",
       "    </tr>\n",
       "    <tr>\n",
       "      <th>25%</th>\n",
       "      <td>11.000000</td>\n",
       "      <td>5.000000</td>\n",
       "      <td>3.000000</td>\n",
       "      <td>0.000000</td>\n",
       "      <td>0.000000</td>\n",
       "      <td>0.000000</td>\n",
       "      <td>2.000000</td>\n",
       "    </tr>\n",
       "    <tr>\n",
       "      <th>50%</th>\n",
       "      <td>25.000000</td>\n",
       "      <td>13.000000</td>\n",
       "      <td>6.000000</td>\n",
       "      <td>0.000000</td>\n",
       "      <td>1.000000</td>\n",
       "      <td>1.000000</td>\n",
       "      <td>5.000000</td>\n",
       "    </tr>\n",
       "    <tr>\n",
       "      <th>75%</th>\n",
       "      <td>38.000000</td>\n",
       "      <td>18.000000</td>\n",
       "      <td>11.000000</td>\n",
       "      <td>0.000000</td>\n",
       "      <td>2.000000</td>\n",
       "      <td>3.000000</td>\n",
       "      <td>6.000000</td>\n",
       "    </tr>\n",
       "    <tr>\n",
       "      <th>max</th>\n",
       "      <td>52.000000</td>\n",
       "      <td>61.000000</td>\n",
       "      <td>20.000000</td>\n",
       "      <td>1.000000</td>\n",
       "      <td>5.000000</td>\n",
       "      <td>12.000000</td>\n",
       "      <td>13.000000</td>\n",
       "    </tr>\n",
       "  </tbody>\n",
       "</table>\n",
       "</div>"
      ],
      "text/plain": [
       "          serial      saved   conceded  saved_penalties  cleansheets  \\\n",
       "count  53.000000  53.000000  53.000000        53.000000    53.000000   \n",
       "mean   25.962264  13.528302   7.169811         0.113208     1.320755   \n",
       "std    15.197371  11.025502   5.158025         0.319878     1.541398   \n",
       "min     1.000000   1.000000   0.000000         0.000000     0.000000   \n",
       "25%    11.000000   5.000000   3.000000         0.000000     0.000000   \n",
       "50%    25.000000  13.000000   6.000000         0.000000     1.000000   \n",
       "75%    38.000000  18.000000  11.000000         0.000000     2.000000   \n",
       "max    52.000000  61.000000  20.000000         1.000000     5.000000   \n",
       "\n",
       "       punches made  match_played  \n",
       "count     53.000000     53.000000  \n",
       "mean       2.075472      4.773585  \n",
       "std        2.622749      3.394801  \n",
       "min        0.000000      1.000000  \n",
       "25%        0.000000      2.000000  \n",
       "50%        1.000000      5.000000  \n",
       "75%        3.000000      6.000000  \n",
       "max       12.000000     13.000000  "
      ]
     },
     "execution_count": 16,
     "metadata": {},
     "output_type": "execute_result"
    }
   ],
   "source": [
    "goalkeeping.describe()"
   ]
  },
  {
   "cell_type": "code",
   "execution_count": 17,
   "id": "5a87aa78",
   "metadata": {},
   "outputs": [
    {
     "data": {
      "text/html": [
       "<div>\n",
       "<style scoped>\n",
       "    .dataframe tbody tr th:only-of-type {\n",
       "        vertical-align: middle;\n",
       "    }\n",
       "\n",
       "    .dataframe tbody tr th {\n",
       "        vertical-align: top;\n",
       "    }\n",
       "\n",
       "    .dataframe thead th {\n",
       "        text-align: right;\n",
       "    }\n",
       "</style>\n",
       "<table border=\"1\" class=\"dataframe\">\n",
       "  <thead>\n",
       "    <tr style=\"text-align: right;\">\n",
       "      <th></th>\n",
       "      <th>serial</th>\n",
       "      <th>goals</th>\n",
       "      <th>right_foot</th>\n",
       "      <th>left_foot</th>\n",
       "      <th>headers</th>\n",
       "      <th>others</th>\n",
       "      <th>inside_area</th>\n",
       "      <th>outside_areas</th>\n",
       "      <th>penalties</th>\n",
       "      <th>match_played</th>\n",
       "    </tr>\n",
       "  </thead>\n",
       "  <tbody>\n",
       "    <tr>\n",
       "      <th>count</th>\n",
       "      <td>183.000000</td>\n",
       "      <td>183.000000</td>\n",
       "      <td>183.000000</td>\n",
       "      <td>183.000000</td>\n",
       "      <td>183.000000</td>\n",
       "      <td>183.000000</td>\n",
       "      <td>183.000000</td>\n",
       "      <td>183.000000</td>\n",
       "      <td>183.000000</td>\n",
       "      <td>183.000000</td>\n",
       "    </tr>\n",
       "    <tr>\n",
       "      <th>mean</th>\n",
       "      <td>55.016393</td>\n",
       "      <td>2.021858</td>\n",
       "      <td>0.972678</td>\n",
       "      <td>0.693989</td>\n",
       "      <td>0.327869</td>\n",
       "      <td>0.021858</td>\n",
       "      <td>1.814208</td>\n",
       "      <td>0.207650</td>\n",
       "      <td>0.196721</td>\n",
       "      <td>6.841530</td>\n",
       "    </tr>\n",
       "    <tr>\n",
       "      <th>std</th>\n",
       "      <td>24.173929</td>\n",
       "      <td>2.005367</td>\n",
       "      <td>1.400281</td>\n",
       "      <td>1.140810</td>\n",
       "      <td>0.612722</td>\n",
       "      <td>0.146621</td>\n",
       "      <td>1.923943</td>\n",
       "      <td>0.514137</td>\n",
       "      <td>0.549315</td>\n",
       "      <td>2.568196</td>\n",
       "    </tr>\n",
       "    <tr>\n",
       "      <th>min</th>\n",
       "      <td>1.000000</td>\n",
       "      <td>1.000000</td>\n",
       "      <td>0.000000</td>\n",
       "      <td>0.000000</td>\n",
       "      <td>0.000000</td>\n",
       "      <td>0.000000</td>\n",
       "      <td>0.000000</td>\n",
       "      <td>0.000000</td>\n",
       "      <td>0.000000</td>\n",
       "      <td>1.000000</td>\n",
       "    </tr>\n",
       "    <tr>\n",
       "      <th>25%</th>\n",
       "      <td>43.000000</td>\n",
       "      <td>1.000000</td>\n",
       "      <td>0.000000</td>\n",
       "      <td>0.000000</td>\n",
       "      <td>0.000000</td>\n",
       "      <td>0.000000</td>\n",
       "      <td>1.000000</td>\n",
       "      <td>0.000000</td>\n",
       "      <td>0.000000</td>\n",
       "      <td>5.000000</td>\n",
       "    </tr>\n",
       "    <tr>\n",
       "      <th>50%</th>\n",
       "      <td>73.000000</td>\n",
       "      <td>1.000000</td>\n",
       "      <td>1.000000</td>\n",
       "      <td>0.000000</td>\n",
       "      <td>0.000000</td>\n",
       "      <td>0.000000</td>\n",
       "      <td>1.000000</td>\n",
       "      <td>0.000000</td>\n",
       "      <td>0.000000</td>\n",
       "      <td>6.000000</td>\n",
       "    </tr>\n",
       "    <tr>\n",
       "      <th>75%</th>\n",
       "      <td>73.000000</td>\n",
       "      <td>2.000000</td>\n",
       "      <td>1.000000</td>\n",
       "      <td>1.000000</td>\n",
       "      <td>1.000000</td>\n",
       "      <td>0.000000</td>\n",
       "      <td>2.000000</td>\n",
       "      <td>0.000000</td>\n",
       "      <td>0.000000</td>\n",
       "      <td>8.000000</td>\n",
       "    </tr>\n",
       "    <tr>\n",
       "      <th>max</th>\n",
       "      <td>73.000000</td>\n",
       "      <td>15.000000</td>\n",
       "      <td>11.000000</td>\n",
       "      <td>8.000000</td>\n",
       "      <td>3.000000</td>\n",
       "      <td>1.000000</td>\n",
       "      <td>13.000000</td>\n",
       "      <td>3.000000</td>\n",
       "      <td>3.000000</td>\n",
       "      <td>13.000000</td>\n",
       "    </tr>\n",
       "  </tbody>\n",
       "</table>\n",
       "</div>"
      ],
      "text/plain": [
       "           serial       goals  right_foot   left_foot     headers      others  \\\n",
       "count  183.000000  183.000000  183.000000  183.000000  183.000000  183.000000   \n",
       "mean    55.016393    2.021858    0.972678    0.693989    0.327869    0.021858   \n",
       "std     24.173929    2.005367    1.400281    1.140810    0.612722    0.146621   \n",
       "min      1.000000    1.000000    0.000000    0.000000    0.000000    0.000000   \n",
       "25%     43.000000    1.000000    0.000000    0.000000    0.000000    0.000000   \n",
       "50%     73.000000    1.000000    1.000000    0.000000    0.000000    0.000000   \n",
       "75%     73.000000    2.000000    1.000000    1.000000    1.000000    0.000000   \n",
       "max     73.000000   15.000000   11.000000    8.000000    3.000000    1.000000   \n",
       "\n",
       "       inside_area  outside_areas   penalties  match_played  \n",
       "count   183.000000     183.000000  183.000000    183.000000  \n",
       "mean      1.814208       0.207650    0.196721      6.841530  \n",
       "std       1.923943       0.514137    0.549315      2.568196  \n",
       "min       0.000000       0.000000    0.000000      1.000000  \n",
       "25%       1.000000       0.000000    0.000000      5.000000  \n",
       "50%       1.000000       0.000000    0.000000      6.000000  \n",
       "75%       2.000000       0.000000    0.000000      8.000000  \n",
       "max      13.000000       3.000000    3.000000     13.000000  "
      ]
     },
     "execution_count": 17,
     "metadata": {},
     "output_type": "execute_result"
    }
   ],
   "source": [
    "goals.describe()"
   ]
  },
  {
   "cell_type": "code",
   "execution_count": 18,
   "id": "35b24f25",
   "metadata": {},
   "outputs": [
    {
     "data": {
      "text/html": [
       "<div>\n",
       "<style scoped>\n",
       "    .dataframe tbody tr th:only-of-type {\n",
       "        vertical-align: middle;\n",
       "    }\n",
       "\n",
       "    .dataframe tbody tr th {\n",
       "        vertical-align: top;\n",
       "    }\n",
       "\n",
       "    .dataframe thead th {\n",
       "        text-align: right;\n",
       "    }\n",
       "</style>\n",
       "<table border=\"1\" class=\"dataframe\">\n",
       "  <thead>\n",
       "    <tr style=\"text-align: right;\">\n",
       "      <th></th>\n",
       "      <th>minutes_played</th>\n",
       "      <th>match_played</th>\n",
       "      <th>goals</th>\n",
       "      <th>assists</th>\n",
       "    </tr>\n",
       "  </thead>\n",
       "  <tbody>\n",
       "    <tr>\n",
       "      <th>count</th>\n",
       "      <td>747.00000</td>\n",
       "      <td>747.000000</td>\n",
       "      <td>747.000000</td>\n",
       "      <td>747.000000</td>\n",
       "    </tr>\n",
       "    <tr>\n",
       "      <th>mean</th>\n",
       "      <td>331.61178</td>\n",
       "      <td>5.089692</td>\n",
       "      <td>0.492637</td>\n",
       "      <td>0.376171</td>\n",
       "    </tr>\n",
       "    <tr>\n",
       "      <th>std</th>\n",
       "      <td>248.37193</td>\n",
       "      <td>2.721425</td>\n",
       "      <td>1.313321</td>\n",
       "      <td>0.845502</td>\n",
       "    </tr>\n",
       "    <tr>\n",
       "      <th>min</th>\n",
       "      <td>1.00000</td>\n",
       "      <td>1.000000</td>\n",
       "      <td>0.000000</td>\n",
       "      <td>0.000000</td>\n",
       "    </tr>\n",
       "    <tr>\n",
       "      <th>25%</th>\n",
       "      <td>116.00000</td>\n",
       "      <td>3.000000</td>\n",
       "      <td>0.000000</td>\n",
       "      <td>0.000000</td>\n",
       "    </tr>\n",
       "    <tr>\n",
       "      <th>50%</th>\n",
       "      <td>301.00000</td>\n",
       "      <td>5.000000</td>\n",
       "      <td>0.000000</td>\n",
       "      <td>0.000000</td>\n",
       "    </tr>\n",
       "    <tr>\n",
       "      <th>75%</th>\n",
       "      <td>492.00000</td>\n",
       "      <td>7.000000</td>\n",
       "      <td>0.000000</td>\n",
       "      <td>0.000000</td>\n",
       "    </tr>\n",
       "    <tr>\n",
       "      <th>max</th>\n",
       "      <td>1230.00000</td>\n",
       "      <td>13.000000</td>\n",
       "      <td>15.000000</td>\n",
       "      <td>7.000000</td>\n",
       "    </tr>\n",
       "  </tbody>\n",
       "</table>\n",
       "</div>"
      ],
      "text/plain": [
       "       minutes_played  match_played       goals     assists\n",
       "count       747.00000    747.000000  747.000000  747.000000\n",
       "mean        331.61178      5.089692    0.492637    0.376171\n",
       "std         248.37193      2.721425    1.313321    0.845502\n",
       "min           1.00000      1.000000    0.000000    0.000000\n",
       "25%         116.00000      3.000000    0.000000    0.000000\n",
       "50%         301.00000      5.000000    0.000000    0.000000\n",
       "75%         492.00000      7.000000    0.000000    0.000000\n",
       "max        1230.00000     13.000000   15.000000    7.000000"
      ]
     },
     "execution_count": 18,
     "metadata": {},
     "output_type": "execute_result"
    }
   ],
   "source": [
    "key_stats.describe()"
   ]
  },
  {
   "cell_type": "code",
   "execution_count": 19,
   "id": "bd5cb227",
   "metadata": {},
   "outputs": [
    {
     "data": {
      "text/html": [
       "<div>\n",
       "<style scoped>\n",
       "    .dataframe tbody tr th:only-of-type {\n",
       "        vertical-align: middle;\n",
       "    }\n",
       "\n",
       "    .dataframe tbody tr th {\n",
       "        vertical-align: top;\n",
       "    }\n",
       "\n",
       "    .dataframe thead th {\n",
       "        text-align: right;\n",
       "    }\n",
       "</style>\n",
       "<table border=\"1\" class=\"dataframe\">\n",
       "  <thead>\n",
       "    <tr style=\"text-align: right;\">\n",
       "      <th></th>\n",
       "      <th>player_name</th>\n",
       "      <th>club</th>\n",
       "      <th>position</th>\n",
       "      <th>minutes_played</th>\n",
       "      <th>match_played</th>\n",
       "      <th>goals</th>\n",
       "      <th>assists</th>\n",
       "      <th>distance_covered</th>\n",
       "      <th>mins_per_goals</th>\n",
       "    </tr>\n",
       "  </thead>\n",
       "  <tbody>\n",
       "    <tr>\n",
       "      <th>0</th>\n",
       "      <td>Courtois</td>\n",
       "      <td>Real Madrid</td>\n",
       "      <td>Goalkeeper</td>\n",
       "      <td>1230</td>\n",
       "      <td>13</td>\n",
       "      <td>0</td>\n",
       "      <td>0</td>\n",
       "      <td>64.2</td>\n",
       "      <td>inf</td>\n",
       "    </tr>\n",
       "    <tr>\n",
       "      <th>1</th>\n",
       "      <td>Vinícius Júnior</td>\n",
       "      <td>Real Madrid</td>\n",
       "      <td>Forward</td>\n",
       "      <td>1199</td>\n",
       "      <td>13</td>\n",
       "      <td>4</td>\n",
       "      <td>6</td>\n",
       "      <td>133.0</td>\n",
       "      <td>299.750000</td>\n",
       "    </tr>\n",
       "    <tr>\n",
       "      <th>2</th>\n",
       "      <td>Benzema</td>\n",
       "      <td>Real Madrid</td>\n",
       "      <td>Forward</td>\n",
       "      <td>1106</td>\n",
       "      <td>12</td>\n",
       "      <td>15</td>\n",
       "      <td>1</td>\n",
       "      <td>121.5</td>\n",
       "      <td>73.733333</td>\n",
       "    </tr>\n",
       "    <tr>\n",
       "      <th>3</th>\n",
       "      <td>Modrić</td>\n",
       "      <td>Real Madrid</td>\n",
       "      <td>Midfielder</td>\n",
       "      <td>1077</td>\n",
       "      <td>13</td>\n",
       "      <td>0</td>\n",
       "      <td>4</td>\n",
       "      <td>124.5</td>\n",
       "      <td>inf</td>\n",
       "    </tr>\n",
       "    <tr>\n",
       "      <th>4</th>\n",
       "      <td>Éder Militão</td>\n",
       "      <td>Real Madrid</td>\n",
       "      <td>Defender</td>\n",
       "      <td>1076</td>\n",
       "      <td>12</td>\n",
       "      <td>0</td>\n",
       "      <td>0</td>\n",
       "      <td>110.4</td>\n",
       "      <td>inf</td>\n",
       "    </tr>\n",
       "  </tbody>\n",
       "</table>\n",
       "</div>"
      ],
      "text/plain": [
       "       player_name         club    position  minutes_played  match_played  \\\n",
       "0         Courtois  Real Madrid  Goalkeeper            1230            13   \n",
       "1  Vinícius Júnior  Real Madrid     Forward            1199            13   \n",
       "2          Benzema  Real Madrid     Forward            1106            12   \n",
       "3           Modrić  Real Madrid  Midfielder            1077            13   \n",
       "4     Éder Militão  Real Madrid    Defender            1076            12   \n",
       "\n",
       "   goals  assists distance_covered  mins_per_goals  \n",
       "0      0        0             64.2             inf  \n",
       "1      4        6            133.0      299.750000  \n",
       "2     15        1            121.5       73.733333  \n",
       "3      0        4            124.5             inf  \n",
       "4      0        0            110.4             inf  "
      ]
     },
     "execution_count": 19,
     "metadata": {},
     "output_type": "execute_result"
    }
   ],
   "source": [
    "key_stats['mins_per_goals'] = (key_stats['minutes_played'] / key_stats['goals']).astype(float)\n",
    "key_stats.head()"
   ]
  },
  {
   "cell_type": "markdown",
   "id": "5418a36b",
   "metadata": {},
   "source": [
    "---"
   ]
  },
  {
   "cell_type": "markdown",
   "id": "d50e4fd7",
   "metadata": {},
   "source": [
    "# Goals Statistics"
   ]
  },
  {
   "cell_type": "code",
   "execution_count": 20,
   "id": "8302dbe2",
   "metadata": {},
   "outputs": [
    {
     "name": "stdout",
     "output_type": "stream",
     "text": [
      "370\n"
     ]
    }
   ],
   "source": [
    "total_goals = goals['goals'].sum()\n",
    "print(total_goals)"
   ]
  },
  {
   "cell_type": "code",
   "execution_count": 77,
   "id": "b83e13ba",
   "metadata": {},
   "outputs": [
    {
     "data": {
      "text/plain": [
       "Text(0, 0.5, 'Number of Goals')"
      ]
     },
     "execution_count": 77,
     "metadata": {},
     "output_type": "execute_result"
    },
    {
     "data": {
      "image/png": "[encoded data removed]",
      "text/plain": [
       "<Figure size 1080x432 with 1 Axes>"
      ]
     },
     "metadata": {
      "needs_background": "light"
     },
     "output_type": "display_data"
    }
   ],
   "source": [
    "ks = key_stats.sort_values(by='goals',ascending=False)\n",
    "tks = ks[:10]\n",
    "plt.figure(figsize=(15,6))\n",
    "plt.title(\"Top 10 Goalscorers\")\n",
    "sns.barplot(x=tks['player_name'], y=tks['goals'])\n",
    "plt.xlabel(\"Players Name\")\n",
    "plt.ylabel(\"Number of Goals\")"
   ]
  },
  {
   "cell_type": "code",
   "execution_count": 78,
   "id": "c888534e",
   "metadata": {},
   "outputs": [
    {
     "data": {
      "text/plain": [
       "Text(0, 0.5, 'Number of Goals')"
      ]
     },
     "execution_count": 78,
     "metadata": {},
     "output_type": "execute_result"
    },
    {
     "data": {
      "image/png": "[encoded data removed]",
      "text/plain": [
       "<Figure size 1080x432 with 1 Axes>"
      ]
     },
     "metadata": {
      "needs_background": "light"
     },
     "output_type": "display_data"
    }
   ],
   "source": [
    "ks = key_stats.sort_values(by='goals',ascending=False)\n",
    "tks = ks[:10]\n",
    "plt.figure(figsize=(15,6))\n",
    "plt.title(\"Top 10 Best Mins Per Goals Ratio\")\n",
    "sns.barplot(x=tks['player_name'], y=tks['mins_per_goals'])\n",
    "plt.xlabel(\"Players Name\")\n",
    "plt.ylabel(\"Number of Goals\")"
   ]
  },
  {
   "cell_type": "code",
   "execution_count": 23,
   "id": "992f133b",
   "metadata": {},
   "outputs": [
    {
     "name": "stdout",
     "output_type": "stream",
     "text": [
      "36\n"
     ]
    }
   ],
   "source": [
    "total_penalty_goals = goals['penalties'].sum()\n",
    "print(total_penalty_goals)"
   ]
  },
  {
   "cell_type": "code",
   "execution_count": 79,
   "id": "63d03a53",
   "metadata": {},
   "outputs": [
    {
     "data": {
      "text/plain": [
       "Text(0, 0.5, 'Number of Goals')"
      ]
     },
     "execution_count": 79,
     "metadata": {},
     "output_type": "execute_result"
    },
    {
     "data": {
      "image/png": "[encoded data removed]",
      "text/plain": [
       "<Figure size 1080x432 with 1 Axes>"
      ]
     },
     "metadata": {
      "needs_background": "light"
     },
     "output_type": "display_data"
    }
   ],
   "source": [
    "goals_team = key_stats.groupby([\"club\"])[\"goals\"].sum().reset_index().sort_values([\"goals\"],ascending=False)[:10]\n",
    "plt.figure(figsize=(15,6))\n",
    "plt.title(\"Top 10 Goalscoring Teams\")\n",
    "sns.barplot(x=goals_team['club'], y=goals_team['goals'])\n",
    "plt.xlabel(\"Club\")\n",
    "plt.ylabel(\"Number of Goals\")"
   ]
  },
  {
   "cell_type": "code",
   "execution_count": 25,
   "id": "538a8ca6",
   "metadata": {},
   "outputs": [
    {
     "data": {
      "text/html": [
       "<div>\n",
       "<style scoped>\n",
       "    .dataframe tbody tr th:only-of-type {\n",
       "        vertical-align: middle;\n",
       "    }\n",
       "\n",
       "    .dataframe tbody tr th {\n",
       "        vertical-align: top;\n",
       "    }\n",
       "\n",
       "    .dataframe thead th {\n",
       "        text-align: right;\n",
       "    }\n",
       "</style>\n",
       "<table border=\"1\" class=\"dataframe\">\n",
       "  <thead>\n",
       "    <tr style=\"text-align: right;\">\n",
       "      <th></th>\n",
       "      <th>club</th>\n",
       "      <th>goals</th>\n",
       "    </tr>\n",
       "  </thead>\n",
       "  <tbody>\n",
       "    <tr>\n",
       "      <th>4</th>\n",
       "      <td>Bayern</td>\n",
       "      <td>30</td>\n",
       "    </tr>\n",
       "    <tr>\n",
       "      <th>22</th>\n",
       "      <td>Real Madrid</td>\n",
       "      <td>28</td>\n",
       "    </tr>\n",
       "    <tr>\n",
       "      <th>17</th>\n",
       "      <td>Man. City</td>\n",
       "      <td>28</td>\n",
       "    </tr>\n",
       "    <tr>\n",
       "      <th>15</th>\n",
       "      <td>Liverpool</td>\n",
       "      <td>28</td>\n",
       "    </tr>\n",
       "    <tr>\n",
       "      <th>0</th>\n",
       "      <td>Ajax</td>\n",
       "      <td>21</td>\n",
       "    </tr>\n",
       "    <tr>\n",
       "      <th>7</th>\n",
       "      <td>Chelsea</td>\n",
       "      <td>21</td>\n",
       "    </tr>\n",
       "    <tr>\n",
       "      <th>28</th>\n",
       "      <td>Villarreal</td>\n",
       "      <td>20</td>\n",
       "    </tr>\n",
       "    <tr>\n",
       "      <th>20</th>\n",
       "      <td>Paris</td>\n",
       "      <td>15</td>\n",
       "    </tr>\n",
       "    <tr>\n",
       "      <th>14</th>\n",
       "      <td>Leipzig</td>\n",
       "      <td>15</td>\n",
       "    </tr>\n",
       "    <tr>\n",
       "      <th>27</th>\n",
       "      <td>Sporting CP</td>\n",
       "      <td>14</td>\n",
       "    </tr>\n",
       "  </tbody>\n",
       "</table>\n",
       "</div>"
      ],
      "text/plain": [
       "           club  goals\n",
       "4        Bayern     30\n",
       "22  Real Madrid     28\n",
       "17    Man. City     28\n",
       "15    Liverpool     28\n",
       "0          Ajax     21\n",
       "7       Chelsea     21\n",
       "28   Villarreal     20\n",
       "20        Paris     15\n",
       "14      Leipzig     15\n",
       "27  Sporting CP     14"
      ]
     },
     "execution_count": 25,
     "metadata": {},
     "output_type": "execute_result"
    }
   ],
   "source": [
    "goals_team"
   ]
  },
  {
   "cell_type": "code",
   "execution_count": 26,
   "id": "5e1387a2",
   "metadata": {},
   "outputs": [
    {
     "name": "stdout",
     "output_type": "stream",
     "text": [
      "Numbers of Left foot scores : 127\n",
      "Numbers of Right foot scores : 178\n",
      "Numbers of Headers scores : 60\n",
      "Numbers of Others scores : 4\n"
     ]
    }
   ],
   "source": [
    "left_goals = goals['left_foot'].sum()\n",
    "right_goals = goals['right_foot'].sum()\n",
    "head_goals = goals['headers'].sum()\n",
    "other_goals = goals['others'].sum()\n",
    "print('Numbers of Left foot scores :',left_goals)\n",
    "print('Numbers of Right foot scores :',right_goals)\n",
    "print('Numbers of Headers scores :',head_goals)\n",
    "print('Numbers of Others scores :',other_goals)"
   ]
  },
  {
   "cell_type": "code",
   "execution_count": 73,
   "id": "6488f5eb",
   "metadata": {},
   "outputs": [
    {
     "data": {
      "image/png": "[encoded data removed]",
      "text/plain": [
       "<Figure size 1152x432 with 1 Axes>"
      ]
     },
     "metadata": {},
     "output_type": "display_data"
    }
   ],
   "source": [
    "plt.figure(figsize=(16,6))\n",
    "data = [left_goals, right_goals, head_goals, other_goals]\n",
    "labels = ['Left Foot Goals', 'Right Foot Goals', 'Headers Goals', 'Others Goals']\n",
    "plt.pie(data, labels=labels, autopct = '%.0f%%')\n",
    "plt.show()"
   ]
  },
  {
   "cell_type": "code",
   "execution_count": 28,
   "id": "a94bdb4b",
   "metadata": {},
   "outputs": [
    {
     "name": "stdout",
     "output_type": "stream",
     "text": [
      "Numbers of Inside penalty area scores : 332\n",
      "Numbers of Outside penalty area scores : 38\n"
     ]
    }
   ],
   "source": [
    "inside_goals = goals['inside_area'].sum()\n",
    "outside_goals = goals['outside_areas'].sum()\n",
    "print('Numbers of Inside penalty area scores :',inside_goals)\n",
    "print('Numbers of Outside penalty area scores :',outside_goals)"
   ]
  },
  {
   "cell_type": "code",
   "execution_count": 74,
   "id": "638d77e5",
   "metadata": {},
   "outputs": [
    {
     "data": {
      "image/png": "[encoded data removed]",
      "text/plain": [
       "<Figure size 1008x432 with 1 Axes>"
      ]
     },
     "metadata": {},
     "output_type": "display_data"
    }
   ],
   "source": [
    "plt.figure(figsize=(14,6))\n",
    "data = [inside_goals, outside_goals]\n",
    "labels = ['Inside penalty area Goals', 'Outside penalty area Goals']\n",
    "plt.pie(data, labels=labels, autopct = '%.0f%%')\n",
    "plt.show()"
   ]
  },
  {
   "cell_type": "code",
   "execution_count": 30,
   "id": "1d114229",
   "metadata": {},
   "outputs": [
    {
     "data": {
      "text/plain": [
       "Text(0, 0.5, 'Number of Penalty Goals')"
      ]
     },
     "execution_count": 30,
     "metadata": {},
     "output_type": "execute_result"
    },
    {
     "data": {
      "image/png": "[encoded data removed]",
      "text/plain": [
       "<Figure size 1008x432 with 1 Axes>"
      ]
     },
     "metadata": {
      "needs_background": "light"
     },
     "output_type": "display_data"
    }
   ],
   "source": [
    "ks = goals.groupby([\"club\"])[\"penalties\"].sum().reset_index().sort_values(by='penalties',ascending=False)[:10]\n",
    "plt.figure(figsize=(14,6))\n",
    "plt.title(\"Top 10 Team Penalty Goals\")\n",
    "sns.barplot(x=ks['club'], y=ks['penalties'])\n",
    "plt.xlabel(\"Club\")\n",
    "plt.ylabel(\"Number of Penalty Goals\")"
   ]
  },
  {
   "cell_type": "code",
   "execution_count": 80,
   "id": "eb168f69",
   "metadata": {},
   "outputs": [
    {
     "data": {
      "text/plain": [
       "Text(0, 0.5, 'Number of Penalty Goals')"
      ]
     },
     "execution_count": 80,
     "metadata": {},
     "output_type": "execute_result"
    },
    {
     "data": {
      "image/png": "[encoded data removed]",
      "text/plain": [
       "<Figure size 1008x432 with 1 Axes>"
      ]
     },
     "metadata": {
      "needs_background": "light"
     },
     "output_type": "display_data"
    }
   ],
   "source": [
    "ks = goals.sort_values(by='penalties',ascending=False)\n",
    "tks = ks[:10]\n",
    "plt.figure(figsize=(14,6))\n",
    "plt.title(\"Top 10 Penalty Goals\")\n",
    "sns.barplot(x=tks['player_name'], y=tks['penalties'])\n",
    "plt.xlabel(\"Players Name\")\n",
    "plt.ylabel(\"Number of Penalty Goals\")"
   ]
  },
  {
   "cell_type": "code",
   "execution_count": 32,
   "id": "78447c22",
   "metadata": {},
   "outputs": [
    {
     "data": {
      "text/plain": [
       "Text(0, 0.5, 'Number of Assists')"
      ]
     },
     "execution_count": 32,
     "metadata": {},
     "output_type": "execute_result"
    },
    {
     "data": {
      "image/png": "[encoded data removed]",
      "text/plain": [
       "<Figure size 1152x576 with 1 Axes>"
      ]
     },
     "metadata": {
      "needs_background": "light"
     },
     "output_type": "display_data"
    }
   ],
   "source": [
    "ks = key_stats.sort_values(by='assists',ascending=False)\n",
    "tks = ks[:10]\n",
    "plt.figure(figsize=(16,8))\n",
    "plt.title(\"Top 10 Assisters\")\n",
    "sns.barplot(x=tks['player_name'], y=tks['assists'])\n",
    "plt.xlabel(\"Players Name\")\n",
    "plt.ylabel(\"Number of Assists\")"
   ]
  },
  {
   "cell_type": "code",
   "execution_count": 70,
   "id": "d2c83342",
   "metadata": {},
   "outputs": [
    {
     "data": {
      "text/plain": [
       "Text(0, 0.5, 'Number of Assists')"
      ]
     },
     "execution_count": 70,
     "metadata": {},
     "output_type": "execute_result"
    },
    {
     "data": {
      "image/png": "[encoded data removed]",
      "text/plain": [
       "<Figure size 1152x432 with 1 Axes>"
      ]
     },
     "metadata": {
      "needs_background": "light"
     },
     "output_type": "display_data"
    }
   ],
   "source": [
    "team_assists = key_stats.groupby([\"club\"])[\"assists\"].sum().reset_index().sort_values([\"assists\"],ascending=False)[:10]\n",
    "plt.figure(figsize=(16,6))\n",
    "plt.title(\"Top 10 Total Teams Assists\")\n",
    "sns.barplot(x=team_assists['club'], y=team_assists['assists'])\n",
    "plt.xlabel(\"Club\")\n",
    "plt.ylabel(\"Number of Assists\")"
   ]
  },
  {
   "cell_type": "code",
   "execution_count": 34,
   "id": "ec0f0d5a",
   "metadata": {},
   "outputs": [
    {
     "data": {
      "text/html": [
       "<div>\n",
       "<style scoped>\n",
       "    .dataframe tbody tr th:only-of-type {\n",
       "        vertical-align: middle;\n",
       "    }\n",
       "\n",
       "    .dataframe tbody tr th {\n",
       "        vertical-align: top;\n",
       "    }\n",
       "\n",
       "    .dataframe thead th {\n",
       "        text-align: right;\n",
       "    }\n",
       "</style>\n",
       "<table border=\"1\" class=\"dataframe\">\n",
       "  <thead>\n",
       "    <tr style=\"text-align: right;\">\n",
       "      <th></th>\n",
       "      <th>club</th>\n",
       "      <th>assists</th>\n",
       "    </tr>\n",
       "  </thead>\n",
       "  <tbody>\n",
       "    <tr>\n",
       "      <th>4</th>\n",
       "      <td>Bayern</td>\n",
       "      <td>24</td>\n",
       "    </tr>\n",
       "    <tr>\n",
       "      <th>17</th>\n",
       "      <td>Man. City</td>\n",
       "      <td>23</td>\n",
       "    </tr>\n",
       "    <tr>\n",
       "      <th>15</th>\n",
       "      <td>Liverpool</td>\n",
       "      <td>23</td>\n",
       "    </tr>\n",
       "    <tr>\n",
       "      <th>22</th>\n",
       "      <td>Real Madrid</td>\n",
       "      <td>21</td>\n",
       "    </tr>\n",
       "    <tr>\n",
       "      <th>0</th>\n",
       "      <td>Ajax</td>\n",
       "      <td>17</td>\n",
       "    </tr>\n",
       "    <tr>\n",
       "      <th>28</th>\n",
       "      <td>Villarreal</td>\n",
       "      <td>16</td>\n",
       "    </tr>\n",
       "    <tr>\n",
       "      <th>7</th>\n",
       "      <td>Chelsea</td>\n",
       "      <td>16</td>\n",
       "    </tr>\n",
       "    <tr>\n",
       "      <th>14</th>\n",
       "      <td>Leipzig</td>\n",
       "      <td>12</td>\n",
       "    </tr>\n",
       "    <tr>\n",
       "      <th>18</th>\n",
       "      <td>Man. United</td>\n",
       "      <td>11</td>\n",
       "    </tr>\n",
       "    <tr>\n",
       "      <th>1</th>\n",
       "      <td>Atalanta</td>\n",
       "      <td>11</td>\n",
       "    </tr>\n",
       "  </tbody>\n",
       "</table>\n",
       "</div>"
      ],
      "text/plain": [
       "           club  assists\n",
       "4        Bayern       24\n",
       "17    Man. City       23\n",
       "15    Liverpool       23\n",
       "22  Real Madrid       21\n",
       "0          Ajax       17\n",
       "28   Villarreal       16\n",
       "7       Chelsea       16\n",
       "14      Leipzig       12\n",
       "18  Man. United       11\n",
       "1      Atalanta       11"
      ]
     },
     "execution_count": 34,
     "metadata": {},
     "output_type": "execute_result"
    }
   ],
   "source": [
    "team_assists"
   ]
  },
  {
   "cell_type": "code",
   "execution_count": 69,
   "id": "7fe1745b",
   "metadata": {},
   "outputs": [
    {
     "data": {
      "text/html": [
       "<div>\n",
       "<style scoped>\n",
       "    .dataframe tbody tr th:only-of-type {\n",
       "        vertical-align: middle;\n",
       "    }\n",
       "\n",
       "    .dataframe tbody tr th {\n",
       "        vertical-align: top;\n",
       "    }\n",
       "\n",
       "    .dataframe thead th {\n",
       "        text-align: right;\n",
       "    }\n",
       "</style>\n",
       "<table border=\"1\" class=\"dataframe\">\n",
       "  <thead>\n",
       "    <tr style=\"text-align: right;\">\n",
       "      <th></th>\n",
       "      <th>serial</th>\n",
       "      <th>player_name</th>\n",
       "      <th>club</th>\n",
       "      <th>position</th>\n",
       "      <th>saved</th>\n",
       "      <th>conceded</th>\n",
       "      <th>saved_penalties</th>\n",
       "      <th>cleansheets</th>\n",
       "      <th>punches made</th>\n",
       "      <th>match_played</th>\n",
       "    </tr>\n",
       "  </thead>\n",
       "  <tbody>\n",
       "    <tr>\n",
       "      <th>0</th>\n",
       "      <td>1</td>\n",
       "      <td>Courtois</td>\n",
       "      <td>Real Madrid</td>\n",
       "      <td>Goalkeeper</td>\n",
       "      <td>61</td>\n",
       "      <td>14</td>\n",
       "      <td>1</td>\n",
       "      <td>5</td>\n",
       "      <td>4</td>\n",
       "      <td>13</td>\n",
       "    </tr>\n",
       "    <tr>\n",
       "      <th>2</th>\n",
       "      <td>3</td>\n",
       "      <td>Vlachodimos</td>\n",
       "      <td>Benfica</td>\n",
       "      <td>Goalkeeper</td>\n",
       "      <td>38</td>\n",
       "      <td>17</td>\n",
       "      <td>1</td>\n",
       "      <td>5</td>\n",
       "      <td>5</td>\n",
       "      <td>10</td>\n",
       "    </tr>\n",
       "    <tr>\n",
       "      <th>9</th>\n",
       "      <td>9</td>\n",
       "      <td>Dahlin</td>\n",
       "      <td>Malmö</td>\n",
       "      <td>Goalkeeper</td>\n",
       "      <td>19</td>\n",
       "      <td>8</td>\n",
       "      <td>1</td>\n",
       "      <td>0</td>\n",
       "      <td>3</td>\n",
       "      <td>4</td>\n",
       "    </tr>\n",
       "    <tr>\n",
       "      <th>13</th>\n",
       "      <td>11</td>\n",
       "      <td>Donnarumma</td>\n",
       "      <td>Paris</td>\n",
       "      <td>Goalkeeper</td>\n",
       "      <td>18</td>\n",
       "      <td>6</td>\n",
       "      <td>1</td>\n",
       "      <td>2</td>\n",
       "      <td>9</td>\n",
       "      <td>5</td>\n",
       "    </tr>\n",
       "    <tr>\n",
       "      <th>19</th>\n",
       "      <td>19</td>\n",
       "      <td>Kobel</td>\n",
       "      <td>Dortmund</td>\n",
       "      <td>Goalkeeper</td>\n",
       "      <td>14</td>\n",
       "      <td>11</td>\n",
       "      <td>1</td>\n",
       "      <td>2</td>\n",
       "      <td>1</td>\n",
       "      <td>6</td>\n",
       "    </tr>\n",
       "    <tr>\n",
       "      <th>21</th>\n",
       "      <td>19</td>\n",
       "      <td>Maignan</td>\n",
       "      <td>Milan</td>\n",
       "      <td>Goalkeeper</td>\n",
       "      <td>14</td>\n",
       "      <td>7</td>\n",
       "      <td>1</td>\n",
       "      <td>0</td>\n",
       "      <td>1</td>\n",
       "      <td>3</td>\n",
       "    </tr>\n",
       "  </tbody>\n",
       "</table>\n",
       "</div>"
      ],
      "text/plain": [
       "    serial  player_name         club    position  saved  conceded  \\\n",
       "0        1     Courtois  Real Madrid  Goalkeeper     61        14   \n",
       "2        3  Vlachodimos      Benfica  Goalkeeper     38        17   \n",
       "9        9       Dahlin        Malmö  Goalkeeper     19         8   \n",
       "13      11   Donnarumma        Paris  Goalkeeper     18         6   \n",
       "19      19        Kobel     Dortmund  Goalkeeper     14        11   \n",
       "21      19      Maignan        Milan  Goalkeeper     14         7   \n",
       "\n",
       "    saved_penalties  cleansheets  punches made  match_played  \n",
       "0                 1            5             4            13  \n",
       "2                 1            5             5            10  \n",
       "9                 1            0             3             4  \n",
       "13                1            2             9             5  \n",
       "19                1            2             1             6  \n",
       "21                1            0             1             3  "
      ]
     },
     "execution_count": 69,
     "metadata": {},
     "output_type": "execute_result"
    }
   ],
   "source": [
    "goalkeeping.loc[goalkeeping['saved_penalties']>0]"
   ]
  },
  {
   "cell_type": "markdown",
   "id": "c58e2013",
   "metadata": {},
   "source": [
    "---"
   ]
  },
  {
   "cell_type": "markdown",
   "id": "b326a7f2",
   "metadata": {},
   "source": [
    "# Disciplinary Statistics"
   ]
  },
  {
   "cell_type": "code",
   "execution_count": 36,
   "id": "7d1f970d",
   "metadata": {},
   "outputs": [
    {
     "name": "stdout",
     "output_type": "stream",
     "text": [
      "Total numbers of yellow cards : 492\n"
     ]
    }
   ],
   "source": [
    "total_yel = disciplinary['yellow'].sum()\n",
    "print('Total numbers of yellow cards :',total_yel)"
   ]
  },
  {
   "cell_type": "code",
   "execution_count": 37,
   "id": "cced7aa6",
   "metadata": {},
   "outputs": [
    {
     "data": {
      "text/plain": [
       "Text(0, 0.5, 'Number of Yellow Card Received')"
      ]
     },
     "execution_count": 37,
     "metadata": {},
     "output_type": "execute_result"
    },
    {
     "data": {
      "image/png": "[encoded data removed]",
      "text/plain": [
       "<Figure size 1152x432 with 1 Axes>"
      ]
     },
     "metadata": {
      "needs_background": "light"
     },
     "output_type": "display_data"
    }
   ],
   "source": [
    "yel = disciplinary.sort_values(by='yellow',ascending=False)[:10]\n",
    "plt.figure(figsize=(16,6))\n",
    "plt.title(\"Top 10 Players with Most Yellow Cards\")\n",
    "sns.barplot(x=yel['player_name'], y=yel['yellow'], label='player_name', color='yellow')\n",
    "plt.xlabel(\"Players Name\")\n",
    "plt.ylabel(\"Number of Yellow Card Received\")"
   ]
  },
  {
   "cell_type": "code",
   "execution_count": 81,
   "id": "69c696e1",
   "metadata": {},
   "outputs": [
    {
     "data": {
      "text/plain": [
       "Text(0, 0.5, 'Number of Yellow Card Received')"
      ]
     },
     "execution_count": 81,
     "metadata": {},
     "output_type": "execute_result"
    },
    {
     "data": {
      "image/png": "[encoded data removed]",
      "text/plain": [
       "<Figure size 1152x432 with 1 Axes>"
      ]
     },
     "metadata": {
      "needs_background": "light"
     },
     "output_type": "display_data"
    }
   ],
   "source": [
    "club_yel = disciplinary.groupby([\"club\"])[\"yellow\"].sum().reset_index().sort_values([\"yellow\"],ascending=False)[:10]\n",
    "plt.figure(figsize=(16,6))\n",
    "plt.title(\"Top 10 Teams with Most Yellow Cards\")\n",
    "sns.barplot(x=club_yel['club'], y=club_yel['yellow'], label='club', color='yellow')\n",
    "plt.xlabel(\"Club\")\n",
    "plt.ylabel(\"Number of Yellow Card Received\")"
   ]
  },
  {
   "cell_type": "code",
   "execution_count": 39,
   "id": "ae8cc3a2",
   "metadata": {},
   "outputs": [
    {
     "data": {
      "text/html": [
       "<div>\n",
       "<style scoped>\n",
       "    .dataframe tbody tr th:only-of-type {\n",
       "        vertical-align: middle;\n",
       "    }\n",
       "\n",
       "    .dataframe tbody tr th {\n",
       "        vertical-align: top;\n",
       "    }\n",
       "\n",
       "    .dataframe thead th {\n",
       "        text-align: right;\n",
       "    }\n",
       "</style>\n",
       "<table border=\"1\" class=\"dataframe\">\n",
       "  <thead>\n",
       "    <tr style=\"text-align: right;\">\n",
       "      <th></th>\n",
       "      <th>club</th>\n",
       "      <th>yellow</th>\n",
       "    </tr>\n",
       "  </thead>\n",
       "  <tbody>\n",
       "    <tr>\n",
       "      <th>2</th>\n",
       "      <td>Atlético</td>\n",
       "      <td>25</td>\n",
       "    </tr>\n",
       "    <tr>\n",
       "      <th>29</th>\n",
       "      <td>Wolfsburg</td>\n",
       "      <td>25</td>\n",
       "    </tr>\n",
       "    <tr>\n",
       "      <th>22</th>\n",
       "      <td>Real Madrid</td>\n",
       "      <td>25</td>\n",
       "    </tr>\n",
       "    <tr>\n",
       "      <th>28</th>\n",
       "      <td>Villarreal</td>\n",
       "      <td>24</td>\n",
       "    </tr>\n",
       "    <tr>\n",
       "      <th>13</th>\n",
       "      <td>LOSC</td>\n",
       "      <td>24</td>\n",
       "    </tr>\n",
       "    <tr>\n",
       "      <th>17</th>\n",
       "      <td>Man. City</td>\n",
       "      <td>21</td>\n",
       "    </tr>\n",
       "    <tr>\n",
       "      <th>24</th>\n",
       "      <td>Sevilla</td>\n",
       "      <td>20</td>\n",
       "    </tr>\n",
       "    <tr>\n",
       "      <th>5</th>\n",
       "      <td>Benfica</td>\n",
       "      <td>19</td>\n",
       "    </tr>\n",
       "    <tr>\n",
       "      <th>20</th>\n",
       "      <td>Paris</td>\n",
       "      <td>19</td>\n",
       "    </tr>\n",
       "    <tr>\n",
       "      <th>27</th>\n",
       "      <td>Sporting CP</td>\n",
       "      <td>17</td>\n",
       "    </tr>\n",
       "  </tbody>\n",
       "</table>\n",
       "</div>"
      ],
      "text/plain": [
       "           club  yellow\n",
       "2      Atlético      25\n",
       "29    Wolfsburg      25\n",
       "22  Real Madrid      25\n",
       "28   Villarreal      24\n",
       "13         LOSC      24\n",
       "17    Man. City      21\n",
       "24      Sevilla      20\n",
       "5       Benfica      19\n",
       "20        Paris      19\n",
       "27  Sporting CP      17"
      ]
     },
     "execution_count": 39,
     "metadata": {},
     "output_type": "execute_result"
    }
   ],
   "source": [
    "club_yel"
   ]
  },
  {
   "cell_type": "code",
   "execution_count": 40,
   "id": "65cabe0a",
   "metadata": {},
   "outputs": [
    {
     "data": {
      "text/plain": [
       "Text(0, 0.5, 'Number of Yellow Card Received')"
      ]
     },
     "execution_count": 40,
     "metadata": {},
     "output_type": "execute_result"
    },
    {
     "data": {
      "image/png": "[encoded data removed]",
      "text/plain": [
       "<Figure size 1152x576 with 1 Axes>"
      ]
     },
     "metadata": {
      "needs_background": "light"
     },
     "output_type": "display_data"
    }
   ],
   "source": [
    "club_yel = disciplinary.groupby([\"club\"])[\"yellow\"].sum().reset_index().sort_values([\"yellow\"],ascending=True)[:10]\n",
    "plt.figure(figsize=(16,8))\n",
    "plt.title(\"Top 10 Teams with Least Yellow Cards\")\n",
    "sns.barplot(x=club_yel['club'], y=club_yel['yellow'], label='club', color='yellow')\n",
    "plt.xlabel(\"Club\")\n",
    "plt.ylabel(\"Number of Yellow Card Received\")"
   ]
  },
  {
   "cell_type": "code",
   "execution_count": 41,
   "id": "1e486b5e",
   "metadata": {},
   "outputs": [
    {
     "name": "stdout",
     "output_type": "stream",
     "text": [
      "Total numbers of red cards : 25\n"
     ]
    }
   ],
   "source": [
    "total_red = disciplinary['red'].sum()\n",
    "print('Total numbers of red cards :',total_red)"
   ]
  },
  {
   "cell_type": "code",
   "execution_count": 42,
   "id": "833b711b",
   "metadata": {},
   "outputs": [
    {
     "data": {
      "text/plain": [
       "Text(0, 0.5, 'Number of Red Card Received')"
      ]
     },
     "execution_count": 42,
     "metadata": {},
     "output_type": "execute_result"
    },
    {
     "data": {
      "image/png": "[encoded data removed]",
      "text/plain": [
       "<Figure size 1152x432 with 1 Axes>"
      ]
     },
     "metadata": {
      "needs_background": "light"
     },
     "output_type": "display_data"
    }
   ],
   "source": [
    "red = disciplinary.sort_values(by='red',ascending=False)[:10]\n",
    "plt.figure(figsize=(16,6))\n",
    "plt.title(\"Top 10 Players with Most Red Cards\")\n",
    "sns.barplot(x=red['player_name'], y=red['red'], label='player_name', color='red')\n",
    "plt.xlabel(\"Players Name\")\n",
    "plt.ylabel(\"Number of Red Card Received\")"
   ]
  },
  {
   "cell_type": "code",
   "execution_count": 43,
   "id": "6226698b",
   "metadata": {},
   "outputs": [
    {
     "data": {
      "text/plain": [
       "Text(0, 0.5, 'Number of Red Card Received')"
      ]
     },
     "execution_count": 43,
     "metadata": {},
     "output_type": "execute_result"
    },
    {
     "data": {
      "image/png": "[encoded data removed]",
      "text/plain": [
       "<Figure size 1008x432 with 1 Axes>"
      ]
     },
     "metadata": {
      "needs_background": "light"
     },
     "output_type": "display_data"
    }
   ],
   "source": [
    "club_red = disciplinary.groupby([\"club\"])[\"red\"].sum().reset_index().sort_values([\"red\"],ascending=False)[:10]\n",
    "plt.figure(figsize=(14,6))\n",
    "plt.title(\"Top 10 Teams with Most Red Cards\")\n",
    "sns.barplot(x=club_red['club'], y=club_red['red'], label='club', color='red')\n",
    "plt.xlabel(\"Club\")\n",
    "plt.ylabel(\"Number of Red Card Received\")"
   ]
  },
  {
   "cell_type": "code",
   "execution_count": 44,
   "id": "b5a3e457",
   "metadata": {},
   "outputs": [
    {
     "data": {
      "text/html": [
       "<div>\n",
       "<style scoped>\n",
       "    .dataframe tbody tr th:only-of-type {\n",
       "        vertical-align: middle;\n",
       "    }\n",
       "\n",
       "    .dataframe tbody tr th {\n",
       "        vertical-align: top;\n",
       "    }\n",
       "\n",
       "    .dataframe thead th {\n",
       "        text-align: right;\n",
       "    }\n",
       "</style>\n",
       "<table border=\"1\" class=\"dataframe\">\n",
       "  <thead>\n",
       "    <tr style=\"text-align: right;\">\n",
       "      <th></th>\n",
       "      <th>club</th>\n",
       "      <th>red</th>\n",
       "    </tr>\n",
       "  </thead>\n",
       "  <tbody>\n",
       "    <tr>\n",
       "      <th>2</th>\n",
       "      <td>Atlético</td>\n",
       "      <td>4</td>\n",
       "    </tr>\n",
       "    <tr>\n",
       "      <th>29</th>\n",
       "      <td>Wolfsburg</td>\n",
       "      <td>2</td>\n",
       "    </tr>\n",
       "    <tr>\n",
       "      <th>28</th>\n",
       "      <td>Villarreal</td>\n",
       "      <td>2</td>\n",
       "    </tr>\n",
       "    <tr>\n",
       "      <th>24</th>\n",
       "      <td>Sevilla</td>\n",
       "      <td>2</td>\n",
       "    </tr>\n",
       "    <tr>\n",
       "      <th>6</th>\n",
       "      <td>Beşiktaş</td>\n",
       "      <td>2</td>\n",
       "    </tr>\n",
       "    <tr>\n",
       "      <th>21</th>\n",
       "      <td>Porto</td>\n",
       "      <td>2</td>\n",
       "    </tr>\n",
       "    <tr>\n",
       "      <th>9</th>\n",
       "      <td>Dortmund</td>\n",
       "      <td>2</td>\n",
       "    </tr>\n",
       "    <tr>\n",
       "      <th>11</th>\n",
       "      <td>Inter</td>\n",
       "      <td>2</td>\n",
       "    </tr>\n",
       "    <tr>\n",
       "      <th>16</th>\n",
       "      <td>Malmö</td>\n",
       "      <td>1</td>\n",
       "    </tr>\n",
       "    <tr>\n",
       "      <th>14</th>\n",
       "      <td>Leipzig</td>\n",
       "      <td>1</td>\n",
       "    </tr>\n",
       "  </tbody>\n",
       "</table>\n",
       "</div>"
      ],
      "text/plain": [
       "          club  red\n",
       "2     Atlético    4\n",
       "29   Wolfsburg    2\n",
       "28  Villarreal    2\n",
       "24     Sevilla    2\n",
       "6     Beşiktaş    2\n",
       "21       Porto    2\n",
       "9     Dortmund    2\n",
       "11       Inter    2\n",
       "16       Malmö    1\n",
       "14     Leipzig    1"
      ]
     },
     "execution_count": 44,
     "metadata": {},
     "output_type": "execute_result"
    }
   ],
   "source": [
    "club_red"
   ]
  },
  {
   "cell_type": "code",
   "execution_count": 45,
   "id": "3f971ad1",
   "metadata": {},
   "outputs": [
    {
     "data": {
      "text/plain": [
       "Text(0, 0.5, 'Number of Playing Minutes')"
      ]
     },
     "execution_count": 45,
     "metadata": {},
     "output_type": "execute_result"
    },
    {
     "data": {
      "image/png": "[encoded data removed]",
      "text/plain": [
       "<Figure size 1152x432 with 1 Axes>"
      ]
     },
     "metadata": {
      "needs_background": "light"
     },
     "output_type": "display_data"
    }
   ],
   "source": [
    "ks = key_stats.sort_values(by='minutes_played',ascending=False)[:10]\n",
    "plt.figure(figsize=(16,6))\n",
    "plt.title(\"Top 10 Players played with most minutes\")\n",
    "sns.barplot(x=ks['player_name'], y=ks['minutes_played'])\n",
    "plt.xlabel(\"Players Name\")\n",
    "plt.ylabel(\"Number of Playing Minutes\")"
   ]
  },
  {
   "cell_type": "code",
   "execution_count": 76,
   "id": "67c5caaa",
   "metadata": {},
   "outputs": [
    {
     "data": {
      "text/html": [
       "<div>\n",
       "<style scoped>\n",
       "    .dataframe tbody tr th:only-of-type {\n",
       "        vertical-align: middle;\n",
       "    }\n",
       "\n",
       "    .dataframe tbody tr th {\n",
       "        vertical-align: top;\n",
       "    }\n",
       "\n",
       "    .dataframe thead th {\n",
       "        text-align: right;\n",
       "    }\n",
       "</style>\n",
       "<table border=\"1\" class=\"dataframe\">\n",
       "  <thead>\n",
       "    <tr style=\"text-align: right;\">\n",
       "      <th></th>\n",
       "      <th>player_name</th>\n",
       "      <th>club</th>\n",
       "      <th>position</th>\n",
       "      <th>minutes_played</th>\n",
       "      <th>match_played</th>\n",
       "      <th>goals</th>\n",
       "      <th>assists</th>\n",
       "      <th>distance_covered</th>\n",
       "      <th>mins_per_goals</th>\n",
       "    </tr>\n",
       "  </thead>\n",
       "  <tbody>\n",
       "    <tr>\n",
       "      <th>0</th>\n",
       "      <td>Courtois</td>\n",
       "      <td>Real Madrid</td>\n",
       "      <td>Goalkeeper</td>\n",
       "      <td>1230</td>\n",
       "      <td>13</td>\n",
       "      <td>0</td>\n",
       "      <td>0</td>\n",
       "      <td>64.2</td>\n",
       "      <td>inf</td>\n",
       "    </tr>\n",
       "    <tr>\n",
       "      <th>1</th>\n",
       "      <td>Vinícius Júnior</td>\n",
       "      <td>Real Madrid</td>\n",
       "      <td>Forward</td>\n",
       "      <td>1199</td>\n",
       "      <td>13</td>\n",
       "      <td>4</td>\n",
       "      <td>6</td>\n",
       "      <td>133.0</td>\n",
       "      <td>299.750000</td>\n",
       "    </tr>\n",
       "    <tr>\n",
       "      <th>25</th>\n",
       "      <td>Alisson Becker</td>\n",
       "      <td>Liverpool</td>\n",
       "      <td>Goalkeeper</td>\n",
       "      <td>1170</td>\n",
       "      <td>13</td>\n",
       "      <td>0</td>\n",
       "      <td>0</td>\n",
       "      <td>68.8</td>\n",
       "      <td>inf</td>\n",
       "    </tr>\n",
       "    <tr>\n",
       "      <th>2</th>\n",
       "      <td>Benzema</td>\n",
       "      <td>Real Madrid</td>\n",
       "      <td>Forward</td>\n",
       "      <td>1106</td>\n",
       "      <td>12</td>\n",
       "      <td>15</td>\n",
       "      <td>1</td>\n",
       "      <td>121.5</td>\n",
       "      <td>73.733333</td>\n",
       "    </tr>\n",
       "    <tr>\n",
       "      <th>53</th>\n",
       "      <td>Pau Torres</td>\n",
       "      <td>Villarreal</td>\n",
       "      <td>Defender</td>\n",
       "      <td>1080</td>\n",
       "      <td>12</td>\n",
       "      <td>1</td>\n",
       "      <td>0</td>\n",
       "      <td>124.2</td>\n",
       "      <td>1080.000000</td>\n",
       "    </tr>\n",
       "    <tr>\n",
       "      <th>54</th>\n",
       "      <td>Rulli</td>\n",
       "      <td>Villarreal</td>\n",
       "      <td>Goalkeeper</td>\n",
       "      <td>1080</td>\n",
       "      <td>12</td>\n",
       "      <td>0</td>\n",
       "      <td>0</td>\n",
       "      <td>61.2</td>\n",
       "      <td>inf</td>\n",
       "    </tr>\n",
       "    <tr>\n",
       "      <th>3</th>\n",
       "      <td>Modrić</td>\n",
       "      <td>Real Madrid</td>\n",
       "      <td>Midfielder</td>\n",
       "      <td>1077</td>\n",
       "      <td>13</td>\n",
       "      <td>0</td>\n",
       "      <td>4</td>\n",
       "      <td>124.5</td>\n",
       "      <td>inf</td>\n",
       "    </tr>\n",
       "    <tr>\n",
       "      <th>4</th>\n",
       "      <td>Éder Militão</td>\n",
       "      <td>Real Madrid</td>\n",
       "      <td>Defender</td>\n",
       "      <td>1076</td>\n",
       "      <td>12</td>\n",
       "      <td>0</td>\n",
       "      <td>0</td>\n",
       "      <td>110.4</td>\n",
       "      <td>inf</td>\n",
       "    </tr>\n",
       "    <tr>\n",
       "      <th>55</th>\n",
       "      <td>Parejo</td>\n",
       "      <td>Villarreal</td>\n",
       "      <td>Midfielder</td>\n",
       "      <td>1055</td>\n",
       "      <td>12</td>\n",
       "      <td>1</td>\n",
       "      <td>3</td>\n",
       "      <td>130.9</td>\n",
       "      <td>1055.000000</td>\n",
       "    </tr>\n",
       "    <tr>\n",
       "      <th>56</th>\n",
       "      <td>Capoue</td>\n",
       "      <td>Villarreal</td>\n",
       "      <td>Midfielder</td>\n",
       "      <td>1046</td>\n",
       "      <td>12</td>\n",
       "      <td>2</td>\n",
       "      <td>4</td>\n",
       "      <td>130.9</td>\n",
       "      <td>523.000000</td>\n",
       "    </tr>\n",
       "  </tbody>\n",
       "</table>\n",
       "</div>"
      ],
      "text/plain": [
       "        player_name         club    position  minutes_played  match_played  \\\n",
       "0          Courtois  Real Madrid  Goalkeeper            1230            13   \n",
       "1   Vinícius Júnior  Real Madrid     Forward            1199            13   \n",
       "25   Alisson Becker    Liverpool  Goalkeeper            1170            13   \n",
       "2           Benzema  Real Madrid     Forward            1106            12   \n",
       "53       Pau Torres   Villarreal    Defender            1080            12   \n",
       "54            Rulli   Villarreal  Goalkeeper            1080            12   \n",
       "3            Modrić  Real Madrid  Midfielder            1077            13   \n",
       "4      Éder Militão  Real Madrid    Defender            1076            12   \n",
       "55           Parejo   Villarreal  Midfielder            1055            12   \n",
       "56           Capoue   Villarreal  Midfielder            1046            12   \n",
       "\n",
       "    goals  assists distance_covered  mins_per_goals  \n",
       "0       0        0             64.2             inf  \n",
       "1       4        6            133.0      299.750000  \n",
       "25      0        0             68.8             inf  \n",
       "2      15        1            121.5       73.733333  \n",
       "53      1        0            124.2     1080.000000  \n",
       "54      0        0             61.2             inf  \n",
       "3       0        4            124.5             inf  \n",
       "4       0        0            110.4             inf  \n",
       "55      1        3            130.9     1055.000000  \n",
       "56      2        4            130.9      523.000000  "
      ]
     },
     "execution_count": 76,
     "metadata": {},
     "output_type": "execute_result"
    }
   ],
   "source": [
    "ks"
   ]
  },
  {
   "cell_type": "code",
   "execution_count": 46,
   "id": "0508edfd",
   "metadata": {},
   "outputs": [
    {
     "data": {
      "text/plain": [
       "Text(0, 0.5, 'Number of Clean Sheets')"
      ]
     },
     "execution_count": 46,
     "metadata": {},
     "output_type": "execute_result"
    },
    {
     "data": {
      "image/png": "[encoded data removed]",
      "text/plain": [
       "<Figure size 1152x432 with 1 Axes>"
      ]
     },
     "metadata": {
      "needs_background": "light"
     },
     "output_type": "display_data"
    }
   ],
   "source": [
    "cs = goalkeeping.sort_values(by='cleansheets',ascending=False)[:10]\n",
    "plt.figure(figsize=(16,6))\n",
    "plt.title(\"Top 10 Goalkeepers with most clean sheets\")\n",
    "sns.barplot(x=cs['player_name'], y=cs['cleansheets'])\n",
    "plt.xlabel(\"Players Name\")\n",
    "plt.ylabel(\"Number of Clean Sheets\")"
   ]
  },
  {
   "cell_type": "code",
   "execution_count": 75,
   "id": "6ba8a2bf",
   "metadata": {},
   "outputs": [
    {
     "data": {
      "text/html": [
       "<div>\n",
       "<style scoped>\n",
       "    .dataframe tbody tr th:only-of-type {\n",
       "        vertical-align: middle;\n",
       "    }\n",
       "\n",
       "    .dataframe tbody tr th {\n",
       "        vertical-align: top;\n",
       "    }\n",
       "\n",
       "    .dataframe thead th {\n",
       "        text-align: right;\n",
       "    }\n",
       "</style>\n",
       "<table border=\"1\" class=\"dataframe\">\n",
       "  <thead>\n",
       "    <tr style=\"text-align: right;\">\n",
       "      <th></th>\n",
       "      <th>serial</th>\n",
       "      <th>player_name</th>\n",
       "      <th>club</th>\n",
       "      <th>position</th>\n",
       "      <th>saved</th>\n",
       "      <th>conceded</th>\n",
       "      <th>saved_penalties</th>\n",
       "      <th>cleansheets</th>\n",
       "      <th>punches made</th>\n",
       "      <th>match_played</th>\n",
       "    </tr>\n",
       "  </thead>\n",
       "  <tbody>\n",
       "    <tr>\n",
       "      <th>0</th>\n",
       "      <td>1</td>\n",
       "      <td>Courtois</td>\n",
       "      <td>Real Madrid</td>\n",
       "      <td>Goalkeeper</td>\n",
       "      <td>61</td>\n",
       "      <td>14</td>\n",
       "      <td>1</td>\n",
       "      <td>5</td>\n",
       "      <td>4</td>\n",
       "      <td>13</td>\n",
       "    </tr>\n",
       "    <tr>\n",
       "      <th>2</th>\n",
       "      <td>3</td>\n",
       "      <td>Vlachodimos</td>\n",
       "      <td>Benfica</td>\n",
       "      <td>Goalkeeper</td>\n",
       "      <td>38</td>\n",
       "      <td>17</td>\n",
       "      <td>1</td>\n",
       "      <td>5</td>\n",
       "      <td>5</td>\n",
       "      <td>10</td>\n",
       "    </tr>\n",
       "    <tr>\n",
       "      <th>33</th>\n",
       "      <td>34</td>\n",
       "      <td>Mendy</td>\n",
       "      <td>Chelsea</td>\n",
       "      <td>Goalkeeper</td>\n",
       "      <td>9</td>\n",
       "      <td>7</td>\n",
       "      <td>0</td>\n",
       "      <td>5</td>\n",
       "      <td>2</td>\n",
       "      <td>9</td>\n",
       "    </tr>\n",
       "    <tr>\n",
       "      <th>22</th>\n",
       "      <td>19</td>\n",
       "      <td>Neuer</td>\n",
       "      <td>Bayern</td>\n",
       "      <td>Goalkeeper</td>\n",
       "      <td>14</td>\n",
       "      <td>6</td>\n",
       "      <td>0</td>\n",
       "      <td>4</td>\n",
       "      <td>1</td>\n",
       "      <td>9</td>\n",
       "    </tr>\n",
       "    <tr>\n",
       "      <th>18</th>\n",
       "      <td>19</td>\n",
       "      <td>Ederson</td>\n",
       "      <td>Man. City</td>\n",
       "      <td>Goalkeeper</td>\n",
       "      <td>14</td>\n",
       "      <td>14</td>\n",
       "      <td>0</td>\n",
       "      <td>4</td>\n",
       "      <td>1</td>\n",
       "      <td>11</td>\n",
       "    </tr>\n",
       "    <tr>\n",
       "      <th>17</th>\n",
       "      <td>18</td>\n",
       "      <td>Alisson Becker</td>\n",
       "      <td>Liverpool</td>\n",
       "      <td>Goalkeeper</td>\n",
       "      <td>15</td>\n",
       "      <td>14</td>\n",
       "      <td>0</td>\n",
       "      <td>4</td>\n",
       "      <td>3</td>\n",
       "      <td>13</td>\n",
       "    </tr>\n",
       "    <tr>\n",
       "      <th>27</th>\n",
       "      <td>25</td>\n",
       "      <td>Grbić</td>\n",
       "      <td>LOSC</td>\n",
       "      <td>Goalkeeper</td>\n",
       "      <td>13</td>\n",
       "      <td>4</td>\n",
       "      <td>0</td>\n",
       "      <td>3</td>\n",
       "      <td>1</td>\n",
       "      <td>6</td>\n",
       "    </tr>\n",
       "    <tr>\n",
       "      <th>1</th>\n",
       "      <td>2</td>\n",
       "      <td>Rulli</td>\n",
       "      <td>Villarreal</td>\n",
       "      <td>Goalkeeper</td>\n",
       "      <td>41</td>\n",
       "      <td>16</td>\n",
       "      <td>0</td>\n",
       "      <td>3</td>\n",
       "      <td>12</td>\n",
       "      <td>12</td>\n",
       "    </tr>\n",
       "    <tr>\n",
       "      <th>20</th>\n",
       "      <td>19</td>\n",
       "      <td>Szczęsny</td>\n",
       "      <td>Juventus</td>\n",
       "      <td>Goalkeeper</td>\n",
       "      <td>14</td>\n",
       "      <td>10</td>\n",
       "      <td>0</td>\n",
       "      <td>3</td>\n",
       "      <td>3</td>\n",
       "      <td>7</td>\n",
       "    </tr>\n",
       "    <tr>\n",
       "      <th>16</th>\n",
       "      <td>16</td>\n",
       "      <td>Ter Stegen</td>\n",
       "      <td>Barcelona</td>\n",
       "      <td>Goalkeeper</td>\n",
       "      <td>16</td>\n",
       "      <td>9</td>\n",
       "      <td>0</td>\n",
       "      <td>3</td>\n",
       "      <td>2</td>\n",
       "      <td>6</td>\n",
       "    </tr>\n",
       "  </tbody>\n",
       "</table>\n",
       "</div>"
      ],
      "text/plain": [
       "    serial     player_name         club    position  saved  conceded  \\\n",
       "0        1        Courtois  Real Madrid  Goalkeeper     61        14   \n",
       "2        3     Vlachodimos      Benfica  Goalkeeper     38        17   \n",
       "33      34           Mendy      Chelsea  Goalkeeper      9         7   \n",
       "22      19           Neuer       Bayern  Goalkeeper     14         6   \n",
       "18      19         Ederson    Man. City  Goalkeeper     14        14   \n",
       "17      18  Alisson Becker    Liverpool  Goalkeeper     15        14   \n",
       "27      25           Grbić         LOSC  Goalkeeper     13         4   \n",
       "1        2           Rulli   Villarreal  Goalkeeper     41        16   \n",
       "20      19        Szczęsny     Juventus  Goalkeeper     14        10   \n",
       "16      16      Ter Stegen    Barcelona  Goalkeeper     16         9   \n",
       "\n",
       "    saved_penalties  cleansheets  punches made  match_played  \n",
       "0                 1            5             4            13  \n",
       "2                 1            5             5            10  \n",
       "33                0            5             2             9  \n",
       "22                0            4             1             9  \n",
       "18                0            4             1            11  \n",
       "17                0            4             3            13  \n",
       "27                0            3             1             6  \n",
       "1                 0            3            12            12  \n",
       "20                0            3             3             7  \n",
       "16                0            3             2             6  "
      ]
     },
     "execution_count": 75,
     "metadata": {},
     "output_type": "execute_result"
    }
   ],
   "source": [
    "cs"
   ]
  },
  {
   "cell_type": "code",
   "execution_count": 47,
   "id": "427714af",
   "metadata": {},
   "outputs": [
    {
     "data": {
      "text/plain": [
       "Text(0, 0.5, 'Number of Saves')"
      ]
     },
     "execution_count": 47,
     "metadata": {},
     "output_type": "execute_result"
    },
    {
     "data": {
      "image/png": "[encoded data removed]",
      "text/plain": [
       "<Figure size 1152x432 with 1 Axes>"
      ]
     },
     "metadata": {
      "needs_background": "light"
     },
     "output_type": "display_data"
    }
   ],
   "source": [
    "save = goalkeeping.sort_values(by='saved',ascending=False)[:10]\n",
    "plt.figure(figsize=(16,6))\n",
    "plt.title(\"Top 10 Goalkeepers with number of saves\")\n",
    "sns.barplot(x=save['player_name'], y=save['saved'])\n",
    "plt.xlabel(\"Players Name\")\n",
    "plt.ylabel(\"Number of Saves\")"
   ]
  },
  {
   "cell_type": "code",
   "execution_count": 48,
   "id": "81dd17df",
   "metadata": {},
   "outputs": [
    {
     "name": "stdout",
     "output_type": "stream",
     "text": [
      "Total numbers of Offside : 250\n"
     ]
    }
   ],
   "source": [
    "total_offside = attacking['offsides'].sum()\n",
    "print('Total numbers of Offside :',total_offside)"
   ]
  },
  {
   "cell_type": "code",
   "execution_count": 49,
   "id": "c253c652",
   "metadata": {},
   "outputs": [
    {
     "data": {
      "text/plain": [
       "Text(0, 0.5, 'Number of an Offside')"
      ]
     },
     "execution_count": 49,
     "metadata": {},
     "output_type": "execute_result"
    },
    {
     "data": {
      "image/png": "[encoded data removed]",
      "text/plain": [
       "<Figure size 1152x432 with 1 Axes>"
      ]
     },
     "metadata": {
      "needs_background": "light"
     },
     "output_type": "display_data"
    }
   ],
   "source": [
    "offside = attacking.sort_values(by='offsides',ascending=False)[:10]\n",
    "plt.figure(figsize=(16,6))\n",
    "plt.title(\"Top 10 Players with most offside\")\n",
    "sns.barplot(x=offside['player_name'], y=offside['offsides'])\n",
    "plt.xlabel(\"Players Name\")\n",
    "plt.ylabel(\"Number of an Offside\")"
   ]
  },
  {
   "cell_type": "code",
   "execution_count": 50,
   "id": "0a30927e",
   "metadata": {},
   "outputs": [
    {
     "data": {
      "text/plain": [
       "Text(0, 0.5, 'Number of an Offside')"
      ]
     },
     "execution_count": 50,
     "metadata": {},
     "output_type": "execute_result"
    },
    {
     "data": {
      "image/png": "[encoded data removed]",
      "text/plain": [
       "<Figure size 1152x432 with 1 Axes>"
      ]
     },
     "metadata": {
      "needs_background": "light"
     },
     "output_type": "display_data"
    }
   ],
   "source": [
    "offside = attacking.groupby([\"club\"])[\"offsides\"].sum().reset_index().sort_values(by='offsides',ascending=False)[:10]\n",
    "plt.figure(figsize=(16,6))\n",
    "plt.title(\"Top 10 Clubs with most offside\")\n",
    "sns.barplot(x=offside['club'], y=offside['offsides'])\n",
    "plt.xlabel(\"Players Name\")\n",
    "plt.ylabel(\"Number of an Offside\")"
   ]
  },
  {
   "cell_type": "code",
   "execution_count": 51,
   "id": "d67db26a",
   "metadata": {},
   "outputs": [
    {
     "data": {
      "text/html": [
       "<div>\n",
       "<style scoped>\n",
       "    .dataframe tbody tr th:only-of-type {\n",
       "        vertical-align: middle;\n",
       "    }\n",
       "\n",
       "    .dataframe tbody tr th {\n",
       "        vertical-align: top;\n",
       "    }\n",
       "\n",
       "    .dataframe thead th {\n",
       "        text-align: right;\n",
       "    }\n",
       "</style>\n",
       "<table border=\"1\" class=\"dataframe\">\n",
       "  <thead>\n",
       "    <tr style=\"text-align: right;\">\n",
       "      <th></th>\n",
       "      <th>club</th>\n",
       "      <th>offsides</th>\n",
       "    </tr>\n",
       "  </thead>\n",
       "  <tbody>\n",
       "    <tr>\n",
       "      <th>17</th>\n",
       "      <td>Man. City</td>\n",
       "      <td>33</td>\n",
       "    </tr>\n",
       "    <tr>\n",
       "      <th>4</th>\n",
       "      <td>Bayern</td>\n",
       "      <td>25</td>\n",
       "    </tr>\n",
       "    <tr>\n",
       "      <th>15</th>\n",
       "      <td>Liverpool</td>\n",
       "      <td>24</td>\n",
       "    </tr>\n",
       "    <tr>\n",
       "      <th>22</th>\n",
       "      <td>Real Madrid</td>\n",
       "      <td>19</td>\n",
       "    </tr>\n",
       "    <tr>\n",
       "      <th>0</th>\n",
       "      <td>Ajax</td>\n",
       "      <td>16</td>\n",
       "    </tr>\n",
       "    <tr>\n",
       "      <th>8</th>\n",
       "      <td>Club Brugge</td>\n",
       "      <td>16</td>\n",
       "    </tr>\n",
       "    <tr>\n",
       "      <th>1</th>\n",
       "      <td>Atalanta</td>\n",
       "      <td>11</td>\n",
       "    </tr>\n",
       "    <tr>\n",
       "      <th>28</th>\n",
       "      <td>Villarreal</td>\n",
       "      <td>11</td>\n",
       "    </tr>\n",
       "    <tr>\n",
       "      <th>20</th>\n",
       "      <td>Paris</td>\n",
       "      <td>10</td>\n",
       "    </tr>\n",
       "    <tr>\n",
       "      <th>9</th>\n",
       "      <td>Dortmund</td>\n",
       "      <td>10</td>\n",
       "    </tr>\n",
       "  </tbody>\n",
       "</table>\n",
       "</div>"
      ],
      "text/plain": [
       "           club  offsides\n",
       "17    Man. City        33\n",
       "4        Bayern        25\n",
       "15    Liverpool        24\n",
       "22  Real Madrid        19\n",
       "0          Ajax        16\n",
       "8   Club Brugge        16\n",
       "1      Atalanta        11\n",
       "28   Villarreal        11\n",
       "20        Paris        10\n",
       "9      Dortmund        10"
      ]
     },
     "execution_count": 51,
     "metadata": {},
     "output_type": "execute_result"
    }
   ],
   "source": [
    "offside"
   ]
  },
  {
   "cell_type": "code",
   "execution_count": 52,
   "id": "cec450c3",
   "metadata": {},
   "outputs": [
    {
     "data": {
      "text/plain": [
       "Text(0, 0.5, 'Number of fouls committed')"
      ]
     },
     "execution_count": 52,
     "metadata": {},
     "output_type": "execute_result"
    },
    {
     "data": {
      "image/png": "[encoded data removed]",
      "text/plain": [
       "<Figure size 1152x432 with 1 Axes>"
      ]
     },
     "metadata": {
      "needs_background": "light"
     },
     "output_type": "display_data"
    }
   ],
   "source": [
    "fouls_com = disciplinary.sort_values(by='fouls_committed',ascending=False)[:10]\n",
    "plt.figure(figsize=(16,6))\n",
    "plt.title(\"Top 10 Players with most fouls committed\")\n",
    "sns.barplot(x=fouls_com['player_name'], y=fouls_com['fouls_committed'])\n",
    "plt.xlabel(\"Players Name\")\n",
    "plt.ylabel(\"Number of fouls committed\")"
   ]
  },
  {
   "cell_type": "code",
   "execution_count": 53,
   "id": "c8b3b2a8",
   "metadata": {},
   "outputs": [
    {
     "data": {
      "text/plain": [
       "Text(0, 0.5, 'Number of fouls committed')"
      ]
     },
     "execution_count": 53,
     "metadata": {},
     "output_type": "execute_result"
    },
    {
     "data": {
      "image/png": "[encoded data removed]",
      "text/plain": [
       "<Figure size 1152x432 with 1 Axes>"
      ]
     },
     "metadata": {
      "needs_background": "light"
     },
     "output_type": "display_data"
    }
   ],
   "source": [
    "fouls_com = disciplinary.groupby([\"club\"])[\"fouls_committed\"].sum().reset_index().sort_values(by='fouls_committed',ascending=False)[:10]\n",
    "plt.figure(figsize=(16,6))\n",
    "plt.title(\"Top 10 Clubs with most fouls committed\")\n",
    "sns.barplot(x=fouls_com['club'], y=fouls_com['fouls_committed'])\n",
    "plt.xlabel(\"Clubs\")\n",
    "plt.ylabel(\"Number of fouls committed\")"
   ]
  },
  {
   "cell_type": "code",
   "execution_count": 54,
   "id": "fdaf8461",
   "metadata": {},
   "outputs": [
    {
     "data": {
      "text/html": [
       "<div>\n",
       "<style scoped>\n",
       "    .dataframe tbody tr th:only-of-type {\n",
       "        vertical-align: middle;\n",
       "    }\n",
       "\n",
       "    .dataframe tbody tr th {\n",
       "        vertical-align: top;\n",
       "    }\n",
       "\n",
       "    .dataframe thead th {\n",
       "        text-align: right;\n",
       "    }\n",
       "</style>\n",
       "<table border=\"1\" class=\"dataframe\">\n",
       "  <thead>\n",
       "    <tr style=\"text-align: right;\">\n",
       "      <th></th>\n",
       "      <th>club</th>\n",
       "      <th>fouls_committed</th>\n",
       "    </tr>\n",
       "  </thead>\n",
       "  <tbody>\n",
       "    <tr>\n",
       "      <th>15</th>\n",
       "      <td>Liverpool</td>\n",
       "      <td>146</td>\n",
       "    </tr>\n",
       "    <tr>\n",
       "      <th>2</th>\n",
       "      <td>Atlético</td>\n",
       "      <td>139</td>\n",
       "    </tr>\n",
       "    <tr>\n",
       "      <th>7</th>\n",
       "      <td>Chelsea</td>\n",
       "      <td>134</td>\n",
       "    </tr>\n",
       "    <tr>\n",
       "      <th>23</th>\n",
       "      <td>Salzburg</td>\n",
       "      <td>129</td>\n",
       "    </tr>\n",
       "    <tr>\n",
       "      <th>17</th>\n",
       "      <td>Man. City</td>\n",
       "      <td>126</td>\n",
       "    </tr>\n",
       "    <tr>\n",
       "      <th>22</th>\n",
       "      <td>Real Madrid</td>\n",
       "      <td>120</td>\n",
       "    </tr>\n",
       "    <tr>\n",
       "      <th>0</th>\n",
       "      <td>Ajax</td>\n",
       "      <td>117</td>\n",
       "    </tr>\n",
       "    <tr>\n",
       "      <th>4</th>\n",
       "      <td>Bayern</td>\n",
       "      <td>115</td>\n",
       "    </tr>\n",
       "    <tr>\n",
       "      <th>28</th>\n",
       "      <td>Villarreal</td>\n",
       "      <td>115</td>\n",
       "    </tr>\n",
       "    <tr>\n",
       "      <th>5</th>\n",
       "      <td>Benfica</td>\n",
       "      <td>110</td>\n",
       "    </tr>\n",
       "  </tbody>\n",
       "</table>\n",
       "</div>"
      ],
      "text/plain": [
       "           club  fouls_committed\n",
       "15    Liverpool              146\n",
       "2      Atlético              139\n",
       "7       Chelsea              134\n",
       "23     Salzburg              129\n",
       "17    Man. City              126\n",
       "22  Real Madrid              120\n",
       "0          Ajax              117\n",
       "4        Bayern              115\n",
       "28   Villarreal              115\n",
       "5       Benfica              110"
      ]
     },
     "execution_count": 54,
     "metadata": {},
     "output_type": "execute_result"
    }
   ],
   "source": [
    "fouls_com"
   ]
  },
  {
   "cell_type": "code",
   "execution_count": 55,
   "id": "43f67600",
   "metadata": {},
   "outputs": [
    {
     "data": {
      "text/plain": [
       "Text(0, 0.5, 'Number of fouls suffered')"
      ]
     },
     "execution_count": 55,
     "metadata": {},
     "output_type": "execute_result"
    },
    {
     "data": {
      "image/png": "[encoded data removed]",
      "text/plain": [
       "<Figure size 1152x432 with 1 Axes>"
      ]
     },
     "metadata": {
      "needs_background": "light"
     },
     "output_type": "display_data"
    }
   ],
   "source": [
    "fouls_suf = disciplinary.sort_values(by='fouls_suffered',ascending=False)[:10]\n",
    "plt.figure(figsize=(16,6))\n",
    "plt.title(\"Top 10 Players with most fouls suffered\")\n",
    "sns.barplot(x=fouls_suf['player_name'], y=fouls_suf['fouls_suffered'])\n",
    "plt.xlabel(\"Players Name\")\n",
    "plt.ylabel(\"Number of fouls suffered\")"
   ]
  },
  {
   "cell_type": "code",
   "execution_count": 56,
   "id": "f601dec0",
   "metadata": {},
   "outputs": [
    {
     "data": {
      "text/plain": [
       "Text(0, 0.5, 'Number of fouls suffered')"
      ]
     },
     "execution_count": 56,
     "metadata": {},
     "output_type": "execute_result"
    },
    {
     "data": {
      "image/png": "[encoded data removed]",
      "text/plain": [
       "<Figure size 1152x432 with 1 Axes>"
      ]
     },
     "metadata": {
      "needs_background": "light"
     },
     "output_type": "display_data"
    }
   ],
   "source": [
    "fouls_suf = disciplinary.groupby([\"club\"])[\"fouls_suffered\"].sum().reset_index().sort_values(by='fouls_suffered',ascending=False)[:10]\n",
    "plt.figure(figsize=(16,6))\n",
    "plt.title(\"Top 10 Clubs with most fouls suffered\")\n",
    "sns.barplot(x=fouls_suf['club'], y=fouls_suf['fouls_suffered'])\n",
    "plt.xlabel(\"Clubs\")\n",
    "plt.ylabel(\"Number of fouls suffered\")"
   ]
  },
  {
   "cell_type": "code",
   "execution_count": 57,
   "id": "41194bcd",
   "metadata": {},
   "outputs": [
    {
     "data": {
      "text/html": [
       "<div>\n",
       "<style scoped>\n",
       "    .dataframe tbody tr th:only-of-type {\n",
       "        vertical-align: middle;\n",
       "    }\n",
       "\n",
       "    .dataframe tbody tr th {\n",
       "        vertical-align: top;\n",
       "    }\n",
       "\n",
       "    .dataframe thead th {\n",
       "        text-align: right;\n",
       "    }\n",
       "</style>\n",
       "<table border=\"1\" class=\"dataframe\">\n",
       "  <thead>\n",
       "    <tr style=\"text-align: right;\">\n",
       "      <th></th>\n",
       "      <th>club</th>\n",
       "      <th>fouls_suffered</th>\n",
       "    </tr>\n",
       "  </thead>\n",
       "  <tbody>\n",
       "    <tr>\n",
       "      <th>22</th>\n",
       "      <td>Real Madrid</td>\n",
       "      <td>149</td>\n",
       "    </tr>\n",
       "    <tr>\n",
       "      <th>2</th>\n",
       "      <td>Atlético</td>\n",
       "      <td>123</td>\n",
       "    </tr>\n",
       "    <tr>\n",
       "      <th>5</th>\n",
       "      <td>Benfica</td>\n",
       "      <td>122</td>\n",
       "    </tr>\n",
       "    <tr>\n",
       "      <th>17</th>\n",
       "      <td>Man. City</td>\n",
       "      <td>118</td>\n",
       "    </tr>\n",
       "    <tr>\n",
       "      <th>15</th>\n",
       "      <td>Liverpool</td>\n",
       "      <td>116</td>\n",
       "    </tr>\n",
       "    <tr>\n",
       "      <th>28</th>\n",
       "      <td>Villarreal</td>\n",
       "      <td>112</td>\n",
       "    </tr>\n",
       "    <tr>\n",
       "      <th>27</th>\n",
       "      <td>Sporting CP</td>\n",
       "      <td>108</td>\n",
       "    </tr>\n",
       "    <tr>\n",
       "      <th>20</th>\n",
       "      <td>Paris</td>\n",
       "      <td>105</td>\n",
       "    </tr>\n",
       "    <tr>\n",
       "      <th>13</th>\n",
       "      <td>LOSC</td>\n",
       "      <td>97</td>\n",
       "    </tr>\n",
       "    <tr>\n",
       "      <th>4</th>\n",
       "      <td>Bayern</td>\n",
       "      <td>94</td>\n",
       "    </tr>\n",
       "  </tbody>\n",
       "</table>\n",
       "</div>"
      ],
      "text/plain": [
       "           club  fouls_suffered\n",
       "22  Real Madrid             149\n",
       "2      Atlético             123\n",
       "5       Benfica             122\n",
       "17    Man. City             118\n",
       "15    Liverpool             116\n",
       "28   Villarreal             112\n",
       "27  Sporting CP             108\n",
       "20        Paris             105\n",
       "13         LOSC              97\n",
       "4        Bayern              94"
      ]
     },
     "execution_count": 57,
     "metadata": {},
     "output_type": "execute_result"
    }
   ],
   "source": [
    "fouls_suf"
   ]
  },
  {
   "cell_type": "code",
   "execution_count": 58,
   "id": "24b7b189",
   "metadata": {},
   "outputs": [
    {
     "data": {
      "text/plain": [
       "Text(0, 0.5, 'Number of tackles won')"
      ]
     },
     "execution_count": 58,
     "metadata": {},
     "output_type": "execute_result"
    },
    {
     "data": {
      "image/png": "[encoded data removed]",
      "text/plain": [
       "<Figure size 1152x432 with 1 Axes>"
      ]
     },
     "metadata": {
      "needs_background": "light"
     },
     "output_type": "display_data"
    }
   ],
   "source": [
    "tackle_w = defending.sort_values(by='t_won',ascending=False)[:10]\n",
    "plt.figure(figsize=(16,6))\n",
    "plt.title(\"Top 10 Players with most tackles won\")\n",
    "sns.barplot(x=tackle_w['player_name'], y=tackle_w['t_won'])\n",
    "plt.xlabel(\"Players Name\")\n",
    "plt.ylabel(\"Number of tackles won\")"
   ]
  },
  {
   "cell_type": "code",
   "execution_count": 59,
   "id": "ec7cd665",
   "metadata": {},
   "outputs": [
    {
     "data": {
      "text/plain": [
       "Text(0, 0.5, 'Number of tackles successful')"
      ]
     },
     "execution_count": 59,
     "metadata": {},
     "output_type": "execute_result"
    },
    {
     "data": {
      "image/png": "[encoded data removed]",
      "text/plain": [
       "<Figure size 1152x432 with 1 Axes>"
      ]
     },
     "metadata": {
      "needs_background": "light"
     },
     "output_type": "display_data"
    }
   ],
   "source": [
    "tacklesw_t = defending.groupby([\"club\"])[\"t_won\"].sum().reset_index().sort_values(by='t_won',ascending=False)[:10]\n",
    "plt.figure(figsize=(16,6))\n",
    "plt.title(\"Top 10 Clubs with most tackles successful\")\n",
    "sns.barplot(x=tacklesw_t['club'], y=tacklesw_t['t_won'])\n",
    "plt.xlabel(\"Clubs\")\n",
    "plt.ylabel(\"Number of tackles successful\")"
   ]
  },
  {
   "cell_type": "code",
   "execution_count": 60,
   "id": "91e74a63",
   "metadata": {},
   "outputs": [
    {
     "data": {
      "text/html": [
       "<div>\n",
       "<style scoped>\n",
       "    .dataframe tbody tr th:only-of-type {\n",
       "        vertical-align: middle;\n",
       "    }\n",
       "\n",
       "    .dataframe tbody tr th {\n",
       "        vertical-align: top;\n",
       "    }\n",
       "\n",
       "    .dataframe thead th {\n",
       "        text-align: right;\n",
       "    }\n",
       "</style>\n",
       "<table border=\"1\" class=\"dataframe\">\n",
       "  <thead>\n",
       "    <tr style=\"text-align: right;\">\n",
       "      <th></th>\n",
       "      <th>club</th>\n",
       "      <th>t_won</th>\n",
       "    </tr>\n",
       "  </thead>\n",
       "  <tbody>\n",
       "    <tr>\n",
       "      <th>22</th>\n",
       "      <td>Real Madrid</td>\n",
       "      <td>76</td>\n",
       "    </tr>\n",
       "    <tr>\n",
       "      <th>5</th>\n",
       "      <td>Benfica</td>\n",
       "      <td>73</td>\n",
       "    </tr>\n",
       "    <tr>\n",
       "      <th>15</th>\n",
       "      <td>Liverpool</td>\n",
       "      <td>59</td>\n",
       "    </tr>\n",
       "    <tr>\n",
       "      <th>2</th>\n",
       "      <td>Atlético</td>\n",
       "      <td>56</td>\n",
       "    </tr>\n",
       "    <tr>\n",
       "      <th>28</th>\n",
       "      <td>Villarreal</td>\n",
       "      <td>54</td>\n",
       "    </tr>\n",
       "    <tr>\n",
       "      <th>27</th>\n",
       "      <td>Sporting CP</td>\n",
       "      <td>51</td>\n",
       "    </tr>\n",
       "    <tr>\n",
       "      <th>20</th>\n",
       "      <td>Paris</td>\n",
       "      <td>50</td>\n",
       "    </tr>\n",
       "    <tr>\n",
       "      <th>13</th>\n",
       "      <td>LOSC</td>\n",
       "      <td>49</td>\n",
       "    </tr>\n",
       "    <tr>\n",
       "      <th>11</th>\n",
       "      <td>Inter</td>\n",
       "      <td>47</td>\n",
       "    </tr>\n",
       "    <tr>\n",
       "      <th>0</th>\n",
       "      <td>Ajax</td>\n",
       "      <td>46</td>\n",
       "    </tr>\n",
       "  </tbody>\n",
       "</table>\n",
       "</div>"
      ],
      "text/plain": [
       "           club  t_won\n",
       "22  Real Madrid     76\n",
       "5       Benfica     73\n",
       "15    Liverpool     59\n",
       "2      Atlético     56\n",
       "28   Villarreal     54\n",
       "27  Sporting CP     51\n",
       "20        Paris     50\n",
       "13         LOSC     49\n",
       "11        Inter     47\n",
       "0          Ajax     46"
      ]
     },
     "execution_count": 60,
     "metadata": {},
     "output_type": "execute_result"
    }
   ],
   "source": [
    "tacklesw_t"
   ]
  },
  {
   "cell_type": "code",
   "execution_count": 61,
   "id": "1403d408",
   "metadata": {},
   "outputs": [
    {
     "data": {
      "text/plain": [
       "Text(0, 0.5, 'Number of clearance attempted')"
      ]
     },
     "execution_count": 61,
     "metadata": {},
     "output_type": "execute_result"
    },
    {
     "data": {
      "image/png": "[encoded data removed]",
      "text/plain": [
       "<Figure size 1152x432 with 1 Axes>"
      ]
     },
     "metadata": {
      "needs_background": "light"
     },
     "output_type": "display_data"
    }
   ],
   "source": [
    "clear = defending.sort_values(by='clearance_attempted',ascending=False)[:10]\n",
    "plt.figure(figsize=(16,6))\n",
    "plt.title(\"Top 10 Players with clearance attempted\")\n",
    "sns.barplot(x=clear['player_name'], y=clear['clearance_attempted'])\n",
    "plt.xlabel(\"Players Name\")\n",
    "plt.ylabel(\"Number of clearance attempted\")"
   ]
  },
  {
   "cell_type": "code",
   "execution_count": 62,
   "id": "41df227e",
   "metadata": {},
   "outputs": [
    {
     "data": {
      "text/plain": [
       "Text(0, 0.5, 'Number of balls recoverd')"
      ]
     },
     "execution_count": 62,
     "metadata": {},
     "output_type": "execute_result"
    },
    {
     "data": {
      "image/png": "[encoded data removed]",
      "text/plain": [
       "<Figure size 1152x432 with 1 Axes>"
      ]
     },
     "metadata": {
      "needs_background": "light"
     },
     "output_type": "display_data"
    }
   ],
   "source": [
    "ball_rec = defending.sort_values(by='balls_recoverd',ascending=False)[:10]\n",
    "plt.figure(figsize=(16,6))\n",
    "plt.title(\"Top 10 Players with most ball recovered\")\n",
    "sns.barplot(x=ball_rec['player_name'], y=ball_rec['balls_recoverd'])\n",
    "plt.xlabel(\"Players Name\")\n",
    "plt.ylabel(\"Number of balls recoverd\")"
   ]
  },
  {
   "cell_type": "code",
   "execution_count": 63,
   "id": "0d77cd0e",
   "metadata": {},
   "outputs": [
    {
     "data": {
      "text/plain": [
       "Text(0, 0.5, 'Number of ball recovered')"
      ]
     },
     "execution_count": 63,
     "metadata": {},
     "output_type": "execute_result"
    },
    {
     "data": {
      "image/png": "[encoded data removed]",
      "text/plain": [
       "<Figure size 1152x432 with 1 Axes>"
      ]
     },
     "metadata": {
      "needs_background": "light"
     },
     "output_type": "display_data"
    }
   ],
   "source": [
    "ball_rec = defending.groupby([\"club\"])[\"balls_recoverd\"].sum().reset_index().sort_values(by='balls_recoverd',ascending=False)[:10]\n",
    "plt.figure(figsize=(16,6))\n",
    "plt.title(\"Top 10 Clubs with most balls recovered\")\n",
    "sns.barplot(x=ball_rec['club'], y=ball_rec['balls_recoverd'])\n",
    "plt.xlabel(\"Clubs\")\n",
    "plt.ylabel(\"Number of ball recovered\")"
   ]
  },
  {
   "cell_type": "code",
   "execution_count": 64,
   "id": "a949cbd8",
   "metadata": {},
   "outputs": [
    {
     "data": {
      "text/html": [
       "<div>\n",
       "<style scoped>\n",
       "    .dataframe tbody tr th:only-of-type {\n",
       "        vertical-align: middle;\n",
       "    }\n",
       "\n",
       "    .dataframe tbody tr th {\n",
       "        vertical-align: top;\n",
       "    }\n",
       "\n",
       "    .dataframe thead th {\n",
       "        text-align: right;\n",
       "    }\n",
       "</style>\n",
       "<table border=\"1\" class=\"dataframe\">\n",
       "  <thead>\n",
       "    <tr style=\"text-align: right;\">\n",
       "      <th></th>\n",
       "      <th>club</th>\n",
       "      <th>balls_recoverd</th>\n",
       "    </tr>\n",
       "  </thead>\n",
       "  <tbody>\n",
       "    <tr>\n",
       "      <th>15</th>\n",
       "      <td>Liverpool</td>\n",
       "      <td>578</td>\n",
       "    </tr>\n",
       "    <tr>\n",
       "      <th>22</th>\n",
       "      <td>Real Madrid</td>\n",
       "      <td>514</td>\n",
       "    </tr>\n",
       "    <tr>\n",
       "      <th>2</th>\n",
       "      <td>Atlético</td>\n",
       "      <td>474</td>\n",
       "    </tr>\n",
       "    <tr>\n",
       "      <th>28</th>\n",
       "      <td>Villarreal</td>\n",
       "      <td>462</td>\n",
       "    </tr>\n",
       "    <tr>\n",
       "      <th>17</th>\n",
       "      <td>Man. City</td>\n",
       "      <td>448</td>\n",
       "    </tr>\n",
       "    <tr>\n",
       "      <th>4</th>\n",
       "      <td>Bayern</td>\n",
       "      <td>439</td>\n",
       "    </tr>\n",
       "    <tr>\n",
       "      <th>7</th>\n",
       "      <td>Chelsea</td>\n",
       "      <td>403</td>\n",
       "    </tr>\n",
       "    <tr>\n",
       "      <th>5</th>\n",
       "      <td>Benfica</td>\n",
       "      <td>390</td>\n",
       "    </tr>\n",
       "    <tr>\n",
       "      <th>23</th>\n",
       "      <td>Salzburg</td>\n",
       "      <td>369</td>\n",
       "    </tr>\n",
       "    <tr>\n",
       "      <th>12</th>\n",
       "      <td>Juventus</td>\n",
       "      <td>349</td>\n",
       "    </tr>\n",
       "  </tbody>\n",
       "</table>\n",
       "</div>"
      ],
      "text/plain": [
       "           club  balls_recoverd\n",
       "15    Liverpool             578\n",
       "22  Real Madrid             514\n",
       "2      Atlético             474\n",
       "28   Villarreal             462\n",
       "17    Man. City             448\n",
       "4        Bayern             439\n",
       "7       Chelsea             403\n",
       "5       Benfica             390\n",
       "23     Salzburg             369\n",
       "12     Juventus             349"
      ]
     },
     "execution_count": 64,
     "metadata": {},
     "output_type": "execute_result"
    }
   ],
   "source": [
    "ball_rec"
   ]
  },
  {
   "cell_type": "code",
   "execution_count": 65,
   "id": "7a977a54",
   "metadata": {},
   "outputs": [
    {
     "data": {
      "text/plain": [
       "Text(0, 0.5, 'Number of shot attempts')"
      ]
     },
     "execution_count": 65,
     "metadata": {},
     "output_type": "execute_result"
    },
    {
     "data": {
      "image/png": "[encoded data removed]",
      "text/plain": [
       "<Figure size 1152x432 with 1 Axes>"
      ]
     },
     "metadata": {
      "needs_background": "light"
     },
     "output_type": "display_data"
    }
   ],
   "source": [
    "attempt = attempts.sort_values(by='total_attempts',ascending=False)[:10]\n",
    "plt.figure(figsize=(16,6))\n",
    "plt.title(\"Top 10 Players with most shot attempts\")\n",
    "sns.barplot(x=attempt['player_name'], y=attempt['total_attempts'])\n",
    "plt.xlabel(\"Players Name\")\n",
    "plt.ylabel(\"Number of shot attempts\")"
   ]
  },
  {
   "cell_type": "code",
   "execution_count": 66,
   "id": "c0a894d2",
   "metadata": {},
   "outputs": [
    {
     "data": {
      "text/plain": [
       "Text(0, 0.5, 'Number of shot attempts')"
      ]
     },
     "execution_count": 66,
     "metadata": {},
     "output_type": "execute_result"
    },
    {
     "data": {
      "image/png": "[encoded data removed]",
      "text/plain": [
       "<Figure size 1152x432 with 1 Axes>"
      ]
     },
     "metadata": {
      "needs_background": "light"
     },
     "output_type": "display_data"
    }
   ],
   "source": [
    "attempt_t = attempts.groupby([\"club\"])[\"total_attempts\"].sum().reset_index().sort_values(by='total_attempts',ascending=False)[:10]\n",
    "plt.figure(figsize=(16,6))\n",
    "plt.title(\"Top 10 Clubs with most shot attempts\")\n",
    "sns.barplot(x=attempt_t['club'], y=attempt_t['total_attempts'])\n",
    "plt.xlabel(\"Clubs\")\n",
    "plt.ylabel(\"Number of shot attempts\")"
   ]
  },
  {
   "cell_type": "code",
   "execution_count": 67,
   "id": "5e032bb9",
   "metadata": {},
   "outputs": [
    {
     "data": {
      "text/html": [
       "<div>\n",
       "<style scoped>\n",
       "    .dataframe tbody tr th:only-of-type {\n",
       "        vertical-align: middle;\n",
       "    }\n",
       "\n",
       "    .dataframe tbody tr th {\n",
       "        vertical-align: top;\n",
       "    }\n",
       "\n",
       "    .dataframe thead th {\n",
       "        text-align: right;\n",
       "    }\n",
       "</style>\n",
       "<table border=\"1\" class=\"dataframe\">\n",
       "  <thead>\n",
       "    <tr style=\"text-align: right;\">\n",
       "      <th></th>\n",
       "      <th>club</th>\n",
       "      <th>total_attempts</th>\n",
       "    </tr>\n",
       "  </thead>\n",
       "  <tbody>\n",
       "    <tr>\n",
       "      <th>15</th>\n",
       "      <td>Liverpool</td>\n",
       "      <td>203</td>\n",
       "    </tr>\n",
       "    <tr>\n",
       "      <th>17</th>\n",
       "      <td>Man. City</td>\n",
       "      <td>193</td>\n",
       "    </tr>\n",
       "    <tr>\n",
       "      <th>4</th>\n",
       "      <td>Bayern</td>\n",
       "      <td>192</td>\n",
       "    </tr>\n",
       "    <tr>\n",
       "      <th>22</th>\n",
       "      <td>Real Madrid</td>\n",
       "      <td>179</td>\n",
       "    </tr>\n",
       "    <tr>\n",
       "      <th>7</th>\n",
       "      <td>Chelsea</td>\n",
       "      <td>167</td>\n",
       "    </tr>\n",
       "    <tr>\n",
       "      <th>11</th>\n",
       "      <td>Inter</td>\n",
       "      <td>133</td>\n",
       "    </tr>\n",
       "    <tr>\n",
       "      <th>0</th>\n",
       "      <td>Ajax</td>\n",
       "      <td>131</td>\n",
       "    </tr>\n",
       "    <tr>\n",
       "      <th>28</th>\n",
       "      <td>Villarreal</td>\n",
       "      <td>115</td>\n",
       "    </tr>\n",
       "    <tr>\n",
       "      <th>12</th>\n",
       "      <td>Juventus</td>\n",
       "      <td>105</td>\n",
       "    </tr>\n",
       "    <tr>\n",
       "      <th>2</th>\n",
       "      <td>Atlético</td>\n",
       "      <td>96</td>\n",
       "    </tr>\n",
       "  </tbody>\n",
       "</table>\n",
       "</div>"
      ],
      "text/plain": [
       "           club  total_attempts\n",
       "15    Liverpool             203\n",
       "17    Man. City             193\n",
       "4        Bayern             192\n",
       "22  Real Madrid             179\n",
       "7       Chelsea             167\n",
       "11        Inter             133\n",
       "0          Ajax             131\n",
       "28   Villarreal             115\n",
       "12     Juventus             105\n",
       "2      Atlético              96"
      ]
     },
     "execution_count": 67,
     "metadata": {},
     "output_type": "execute_result"
    }
   ],
   "source": [
    "attempt_t"
   ]
  },
  {
   "cell_type": "code",
   "execution_count": null,
   "id": "dc80b8b6",
   "metadata": {},
   "outputs": [],
   "source": []
  }
 ],
 "metadata": {
  "kernelspec": {
   "display_name": "Python 3 (ipykernel)",
   "language": "python",
   "name": "python3"
  },
  "language_info": {
   "codemirror_mode": {
    "name": "ipython",
    "version": 3
   },
   "file_extension": ".py",
   "mimetype": "text/x-python",
   "name": "python",
   "nbconvert_exporter": "python",
   "pygments_lexer": "ipython3",
   "version": "3.9.7"
  }
 },
 "nbformat": 4,
 "nbformat_minor": 5
}
